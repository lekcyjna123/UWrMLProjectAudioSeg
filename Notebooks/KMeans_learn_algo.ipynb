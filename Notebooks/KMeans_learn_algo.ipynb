{
 "cells": [
  {
   "cell_type": "markdown",
   "metadata": {},
   "source": [
    "## Libraries Import"
   ]
  },
  {
   "cell_type": "code",
   "execution_count": 1,
   "metadata": {},
   "outputs": [],
   "source": [
    "import os\n",
    "# import pydub\n",
    "#import sox\n",
    "import pandas as pd\n",
    "import numpy as np\n",
    "# import datetime\n",
    "# import librosa\n",
    "import matplotlib.pyplot as plt\n",
    "from tqdm.auto import tqdm\n",
    "\n",
    "import faiss\n",
    "from sklearn import datasets\n",
    "\n",
    "from sklearn.metrics import accuracy_score\n",
    "from sklearn.cluster import KMeans\n",
    "from sklearn import preprocessing\n",
    "from sklearn.model_selection import train_test_split"
   ]
  },
  {
   "cell_type": "code",
   "execution_count": 2,
   "metadata": {},
   "outputs": [],
   "source": [
    "REPO_DIR = '/Users/JakubMichalowski/Documents/UWR/UWrMLProjectAudioSeg/'"
   ]
  },
  {
   "cell_type": "markdown",
   "metadata": {},
   "source": [
    "## Pre-processed data loading"
   ]
  },
  {
   "cell_type": "code",
   "execution_count": 105,
   "metadata": {},
   "outputs": [],
   "source": [
    "data = pd.concat([pd.read_csv(REPO_DIR + \"/data/data_{}.csv\".format(i), index_col=False) for i in [1,2,3]])\n",
    "data.drop('Unnamed: 0', axis=1, inplace=True)\n",
    "data.drop('timestamp', axis=1, inplace=True)"
   ]
  },
  {
   "cell_type": "code",
   "execution_count": 106,
   "metadata": {},
   "outputs": [
    {
     "data": {
      "text/html": [
       "<div>\n",
       "<style scoped>\n",
       "    .dataframe tbody tr th:only-of-type {\n",
       "        vertical-align: middle;\n",
       "    }\n",
       "\n",
       "    .dataframe tbody tr th {\n",
       "        vertical-align: top;\n",
       "    }\n",
       "\n",
       "    .dataframe thead th {\n",
       "        text-align: right;\n",
       "    }\n",
       "</style>\n",
       "<table border=\"1\" class=\"dataframe\">\n",
       "  <thead>\n",
       "    <tr style=\"text-align: right;\">\n",
       "      <th></th>\n",
       "      <th>label</th>\n",
       "      <th>chroma_stft</th>\n",
       "      <th>rmse</th>\n",
       "      <th>spec_cent</th>\n",
       "      <th>spec_bw</th>\n",
       "      <th>rolloff</th>\n",
       "      <th>zcr</th>\n",
       "      <th>mfcc_0</th>\n",
       "      <th>mfcc_1</th>\n",
       "      <th>mfcc_2</th>\n",
       "      <th>...</th>\n",
       "      <th>mfcc_10</th>\n",
       "      <th>mfcc_11</th>\n",
       "      <th>mfcc_12</th>\n",
       "      <th>mfcc_13</th>\n",
       "      <th>mfcc_14</th>\n",
       "      <th>mfcc_15</th>\n",
       "      <th>mfcc_16</th>\n",
       "      <th>mfcc_17</th>\n",
       "      <th>mfcc_18</th>\n",
       "      <th>mfcc_19</th>\n",
       "    </tr>\n",
       "  </thead>\n",
       "  <tbody>\n",
       "    <tr>\n",
       "      <th>0</th>\n",
       "      <td>music</td>\n",
       "      <td>0.000000</td>\n",
       "      <td>0.000000</td>\n",
       "      <td>0.000000</td>\n",
       "      <td>0.000000</td>\n",
       "      <td>0.000000</td>\n",
       "      <td>0.000000</td>\n",
       "      <td>-1131.370972</td>\n",
       "      <td>0.000000</td>\n",
       "      <td>0.000000</td>\n",
       "      <td>...</td>\n",
       "      <td>0.000000</td>\n",
       "      <td>0.000000</td>\n",
       "      <td>0.000000</td>\n",
       "      <td>0.000000</td>\n",
       "      <td>0.000000</td>\n",
       "      <td>0.000000</td>\n",
       "      <td>0.000000</td>\n",
       "      <td>0.000000</td>\n",
       "      <td>0.000000</td>\n",
       "      <td>0.000000</td>\n",
       "    </tr>\n",
       "    <tr>\n",
       "      <th>1</th>\n",
       "      <td>music</td>\n",
       "      <td>0.000000</td>\n",
       "      <td>0.000000</td>\n",
       "      <td>0.000000</td>\n",
       "      <td>0.000000</td>\n",
       "      <td>0.000000</td>\n",
       "      <td>0.000000</td>\n",
       "      <td>-1131.370972</td>\n",
       "      <td>0.000000</td>\n",
       "      <td>0.000000</td>\n",
       "      <td>...</td>\n",
       "      <td>0.000000</td>\n",
       "      <td>0.000000</td>\n",
       "      <td>0.000000</td>\n",
       "      <td>0.000000</td>\n",
       "      <td>0.000000</td>\n",
       "      <td>0.000000</td>\n",
       "      <td>0.000000</td>\n",
       "      <td>0.000000</td>\n",
       "      <td>0.000000</td>\n",
       "      <td>0.000000</td>\n",
       "    </tr>\n",
       "    <tr>\n",
       "      <th>2</th>\n",
       "      <td>music</td>\n",
       "      <td>0.000000</td>\n",
       "      <td>0.000000</td>\n",
       "      <td>0.000000</td>\n",
       "      <td>0.000000</td>\n",
       "      <td>0.000000</td>\n",
       "      <td>0.000000</td>\n",
       "      <td>-1131.370972</td>\n",
       "      <td>0.000000</td>\n",
       "      <td>0.000000</td>\n",
       "      <td>...</td>\n",
       "      <td>0.000000</td>\n",
       "      <td>0.000000</td>\n",
       "      <td>0.000000</td>\n",
       "      <td>0.000000</td>\n",
       "      <td>0.000000</td>\n",
       "      <td>0.000000</td>\n",
       "      <td>0.000000</td>\n",
       "      <td>0.000000</td>\n",
       "      <td>0.000000</td>\n",
       "      <td>0.000000</td>\n",
       "    </tr>\n",
       "    <tr>\n",
       "      <th>3</th>\n",
       "      <td>music</td>\n",
       "      <td>0.012444</td>\n",
       "      <td>0.081449</td>\n",
       "      <td>432.529692</td>\n",
       "      <td>424.989395</td>\n",
       "      <td>949.418501</td>\n",
       "      <td>0.014660</td>\n",
       "      <td>-632.946411</td>\n",
       "      <td>12.773681</td>\n",
       "      <td>-1.715082</td>\n",
       "      <td>...</td>\n",
       "      <td>-2.038454</td>\n",
       "      <td>-0.884550</td>\n",
       "      <td>-1.802255</td>\n",
       "      <td>0.243648</td>\n",
       "      <td>-0.727257</td>\n",
       "      <td>0.287844</td>\n",
       "      <td>0.141726</td>\n",
       "      <td>-0.364878</td>\n",
       "      <td>-0.763656</td>\n",
       "      <td>-0.566740</td>\n",
       "    </tr>\n",
       "    <tr>\n",
       "      <th>4</th>\n",
       "      <td>music</td>\n",
       "      <td>0.172535</td>\n",
       "      <td>0.435161</td>\n",
       "      <td>2309.434221</td>\n",
       "      <td>2392.904163</td>\n",
       "      <td>4963.403320</td>\n",
       "      <td>0.102350</td>\n",
       "      <td>-33.924923</td>\n",
       "      <td>96.108818</td>\n",
       "      <td>-15.746825</td>\n",
       "      <td>...</td>\n",
       "      <td>-10.182379</td>\n",
       "      <td>-11.484722</td>\n",
       "      <td>-13.531470</td>\n",
       "      <td>-5.707917</td>\n",
       "      <td>-9.890487</td>\n",
       "      <td>-1.513985</td>\n",
       "      <td>-8.121307</td>\n",
       "      <td>-4.673933</td>\n",
       "      <td>-4.060278</td>\n",
       "      <td>-2.206214</td>\n",
       "    </tr>\n",
       "    <tr>\n",
       "      <th>5</th>\n",
       "      <td>music</td>\n",
       "      <td>0.157657</td>\n",
       "      <td>0.336784</td>\n",
       "      <td>2567.839539</td>\n",
       "      <td>2600.708755</td>\n",
       "      <td>5628.485662</td>\n",
       "      <td>0.119984</td>\n",
       "      <td>-45.499687</td>\n",
       "      <td>84.936684</td>\n",
       "      <td>-8.681884</td>\n",
       "      <td>...</td>\n",
       "      <td>-11.334825</td>\n",
       "      <td>-8.786905</td>\n",
       "      <td>-12.080547</td>\n",
       "      <td>-5.115549</td>\n",
       "      <td>-6.204822</td>\n",
       "      <td>-0.849673</td>\n",
       "      <td>-5.121214</td>\n",
       "      <td>0.046853</td>\n",
       "      <td>-1.955851</td>\n",
       "      <td>-2.410228</td>\n",
       "    </tr>\n",
       "    <tr>\n",
       "      <th>6</th>\n",
       "      <td>music</td>\n",
       "      <td>0.163854</td>\n",
       "      <td>0.356565</td>\n",
       "      <td>2282.280482</td>\n",
       "      <td>2313.616205</td>\n",
       "      <td>4751.007635</td>\n",
       "      <td>0.108554</td>\n",
       "      <td>-50.080624</td>\n",
       "      <td>97.172562</td>\n",
       "      <td>-16.078642</td>\n",
       "      <td>...</td>\n",
       "      <td>-12.691456</td>\n",
       "      <td>-9.263289</td>\n",
       "      <td>-13.510224</td>\n",
       "      <td>-5.936949</td>\n",
       "      <td>-7.081617</td>\n",
       "      <td>-0.348157</td>\n",
       "      <td>-5.191010</td>\n",
       "      <td>-2.328905</td>\n",
       "      <td>-1.093816</td>\n",
       "      <td>-1.405749</td>\n",
       "    </tr>\n",
       "  </tbody>\n",
       "</table>\n",
       "<p>7 rows × 27 columns</p>\n",
       "</div>"
      ],
      "text/plain": [
       "   label  chroma_stft      rmse    spec_cent      spec_bw      rolloff  \\\n",
       "0  music     0.000000  0.000000     0.000000     0.000000     0.000000   \n",
       "1  music     0.000000  0.000000     0.000000     0.000000     0.000000   \n",
       "2  music     0.000000  0.000000     0.000000     0.000000     0.000000   \n",
       "3  music     0.012444  0.081449   432.529692   424.989395   949.418501   \n",
       "4  music     0.172535  0.435161  2309.434221  2392.904163  4963.403320   \n",
       "5  music     0.157657  0.336784  2567.839539  2600.708755  5628.485662   \n",
       "6  music     0.163854  0.356565  2282.280482  2313.616205  4751.007635   \n",
       "\n",
       "        zcr       mfcc_0     mfcc_1     mfcc_2  ...    mfcc_10    mfcc_11  \\\n",
       "0  0.000000 -1131.370972   0.000000   0.000000  ...   0.000000   0.000000   \n",
       "1  0.000000 -1131.370972   0.000000   0.000000  ...   0.000000   0.000000   \n",
       "2  0.000000 -1131.370972   0.000000   0.000000  ...   0.000000   0.000000   \n",
       "3  0.014660  -632.946411  12.773681  -1.715082  ...  -2.038454  -0.884550   \n",
       "4  0.102350   -33.924923  96.108818 -15.746825  ... -10.182379 -11.484722   \n",
       "5  0.119984   -45.499687  84.936684  -8.681884  ... -11.334825  -8.786905   \n",
       "6  0.108554   -50.080624  97.172562 -16.078642  ... -12.691456  -9.263289   \n",
       "\n",
       "     mfcc_12   mfcc_13   mfcc_14   mfcc_15   mfcc_16   mfcc_17   mfcc_18  \\\n",
       "0   0.000000  0.000000  0.000000  0.000000  0.000000  0.000000  0.000000   \n",
       "1   0.000000  0.000000  0.000000  0.000000  0.000000  0.000000  0.000000   \n",
       "2   0.000000  0.000000  0.000000  0.000000  0.000000  0.000000  0.000000   \n",
       "3  -1.802255  0.243648 -0.727257  0.287844  0.141726 -0.364878 -0.763656   \n",
       "4 -13.531470 -5.707917 -9.890487 -1.513985 -8.121307 -4.673933 -4.060278   \n",
       "5 -12.080547 -5.115549 -6.204822 -0.849673 -5.121214  0.046853 -1.955851   \n",
       "6 -13.510224 -5.936949 -7.081617 -0.348157 -5.191010 -2.328905 -1.093816   \n",
       "\n",
       "    mfcc_19  \n",
       "0  0.000000  \n",
       "1  0.000000  \n",
       "2  0.000000  \n",
       "3 -0.566740  \n",
       "4 -2.206214  \n",
       "5 -2.410228  \n",
       "6 -1.405749  \n",
       "\n",
       "[7 rows x 27 columns]"
      ]
     },
     "execution_count": 106,
     "metadata": {},
     "output_type": "execute_result"
    }
   ],
   "source": [
    "# data.label.unique()\n",
    "data.head(7)"
   ]
  },
  {
   "cell_type": "code",
   "execution_count": 110,
   "metadata": {},
   "outputs": [],
   "source": [
    "X = data.drop('label', axis=1)\n",
    "y = data['label']\n",
    "trainX, testX, trainY, testY = train_test_split(X, y, test_size = 0.3, random_state=42, shuffle=False)\n",
    "\n",
    "trainX, testX, trainY, testY = map(np.array, [trainX, testX, trainY, testY]) \n",
    "\n",
    "train_X = trainX.copy() \n",
    "test_X  = testX.copy()\n",
    "train_y = trainY.copy()\n",
    "test_y  = testY.copy()\n",
    "\n",
    "np.reshape(train_X, train_X.shape, order='C')\n",
    "np.reshape(test_X, test_X.shape, order='C')\n",
    "np.reshape(train_y, train_y.shape, order='C')\n",
    "np.reshape(test_y, test_y.shape, order='C')\n",
    "\n",
    "train_X = train_X.astype('float32')\n",
    "test_X = test_X.astype('float32')"
   ]
  },
  {
   "cell_type": "code",
   "execution_count": 111,
   "metadata": {},
   "outputs": [],
   "source": [
    "# le = preprocessing.LabelEncoder()\n",
    "# le.fit(train_y)\n",
    "# test_y_trans = le.transform(test_y)\n",
    "# train_y_trans = le.transform(train_y)"
   ]
  },
  {
   "cell_type": "code",
   "execution_count": 112,
   "metadata": {},
   "outputs": [],
   "source": [
    "# train_y_trans, train_y \n",
    "# test_y_trans, test_y"
   ]
  },
  {
   "cell_type": "code",
   "execution_count": 228,
   "metadata": {},
   "outputs": [],
   "source": [
    "class FaissKMeans:\n",
    "    def __init__(self, n_clusters=8, n_redo=10, max_iter=300):\n",
    "        self.n_clusters = n_clusters\n",
    "        # redo means repeating with new starting points\n",
    "        self.n_redo = n_redo\n",
    "        self.max_iter = max_iter\n",
    "        \n",
    "        self.kmeans = None\n",
    "        self.cluster_centers_ = None\n",
    "        self.inertia_ = None\n",
    "\n",
    "    def fit(self, X):\n",
    "        self.kmeans = faiss.Kmeans(d=X.shape[1],\n",
    "                                   k=self.n_clusters,\n",
    "                                   niter=self.max_iter,\n",
    "                                   nredo=self.n_redo)\n",
    "        self.kmeans.train(X.astype(np.float32))\n",
    "        self.cluster_centers_ = self.kmeans.centroids\n",
    "        self.inertia_ = self.kmeans.obj[-1]\n",
    "\n",
    "    def predict(self, X):\n",
    "        preds = self.kmeans.index.search(X.astype(np.float32), 1)[1]\n",
    "        preds = preds.reshape((X.shape[0], ))\n",
    "        return np.array(pd.Series(preds).map({1: 'music', 0: 'speech'}))"
   ]
  },
  {
   "cell_type": "code",
   "execution_count": 257,
   "metadata": {},
   "outputs": [],
   "source": [
    "class SklearnKMeans:\n",
    "    def __init__(self, n_clusters=8, n_redo=10, max_iter=300, initialization='random'):\n",
    "        self.n_clusters = n_clusters\n",
    "        # redo means repeating with new starting points\n",
    "        self.n_redo = n_redo\n",
    "        self.max_iter = max_iter\n",
    "        self.initialization = initialization\n",
    "        \n",
    "        self.kmeans = None\n",
    "        self.cluster_centers_ = None\n",
    "#         self.inertia_ = None\n",
    "\n",
    "    def fit(self, X):\n",
    "        self.kmeans = KMeans(n_clusters=self.n_clusters, \n",
    "                             random_state=0, \n",
    "                             init=self.initialization, \n",
    "                             n_init=self.n_redo, max_iter=self.max_iter)\n",
    "        \n",
    "        self.kmeans.fit(X)\n",
    "        self.cluster_centers_ = self.kmeans.cluster_centers_\n",
    "\n",
    "    def predict(self, X):\n",
    "        preds = self.kmeans.predict(X)\n",
    "        preds = preds.reshape((X.shape[0], ))\n",
    "        return np.array(pd.Series(preds).map({0: 'music', 1: 'speech'}))"
   ]
  },
  {
   "cell_type": "markdown",
   "metadata": {},
   "source": [
    "## Fitting classifiers"
   ]
  },
  {
   "cell_type": "code",
   "execution_count": 258,
   "metadata": {},
   "outputs": [],
   "source": [
    "K  = 2\n",
    "\n",
    "kmeansFaiss = FaissKMeans(n_clusters=K, max_iter=300, n_redo=50)\n",
    "kmeansFaiss.fit(train_X)\n",
    "y_pred_faiss_train = kmeansFaiss.predict(train_X)\n",
    "y_pred_faiss_test = kmeansFaiss.predict(test_X)\n",
    "\n",
    "\n",
    "# initialization_methods = ['random', 'k-means++']\n",
    "# for init_method in initialization_methods:\n",
    "#     pass\n",
    "kmeansSklearn = SklearnKMeans(n_clusters=K, initialization='random', n_redo=50)\n",
    "kmeansSklearn.fit(train_X)\n",
    "y_pred_sklearn_train = kmeansSklearn.predict(train_X)\n",
    "y_pred_sklearn_test = kmeansSklearn.predict(test_X)"
   ]
  },
  {
   "cell_type": "markdown",
   "metadata": {},
   "source": [
    "## mapping pred.results of sklearn classifiers"
   ]
  },
  {
   "cell_type": "code",
   "execution_count": 259,
   "metadata": {},
   "outputs": [],
   "source": [
    "# y_pred_sklearn_train[0:50], data.head(50)\n",
    "\n",
    "# y_pred_sklearn_train = np.array(pd.Series(y_pred_sklearn_train).map({0: 'music', 1: 'speech'}))\n",
    "# y_pred_sklearn_test = np.array(pd.Series(y_pred_sklearn_test).map({0: 'music', 1: 'speech'}))"
   ]
  },
  {
   "cell_type": "code",
   "execution_count": 260,
   "metadata": {},
   "outputs": [
    {
     "data": {
      "text/plain": [
       "{'sklearn': 0.7138749101365924, 'faiss': 0.7233165588305775}"
      ]
     },
     "execution_count": 260,
     "metadata": {},
     "output_type": "execute_result"
    }
   ],
   "source": [
    "trainAccuracies = {\n",
    "    'sklearn': accuracy_score(y_true=train_y, y_pred=y_pred_sklearn_train),\n",
    "    'faiss': accuracy_score(y_true=train_y, y_pred=y_pred_faiss_train)\n",
    "}\n",
    "trainAccuracies"
   ]
  },
  {
   "cell_type": "code",
   "execution_count": 261,
   "metadata": {},
   "outputs": [
    {
     "data": {
      "text/plain": [
       "{'sklearn': 0.724029967572403, 'faiss': 0.7354355361735435}"
      ]
     },
     "execution_count": 261,
     "metadata": {},
     "output_type": "execute_result"
    }
   ],
   "source": [
    "testAccuracies = {\n",
    "    'sklearn': accuracy_score(y_true=test_y, y_pred=y_pred_sklearn_test),\n",
    "    'faiss': accuracy_score(y_true=test_y, y_pred=y_pred_faiss_test)\n",
    "}\n",
    "testAccuracies"
   ]
  },
  {
   "cell_type": "code",
   "execution_count": 262,
   "metadata": {},
   "outputs": [],
   "source": [
    "# kmeansFaiss.cluster_centers_, kmeansClassifier.cluster_centers_"
   ]
  },
  {
   "cell_type": "markdown",
   "metadata": {},
   "source": [
    "## Smoothing HHM"
   ]
  },
  {
   "cell_type": "code",
   "execution_count": 263,
   "metadata": {},
   "outputs": [],
   "source": [
    "class smoothHMM:\n",
    "\n",
    "    def __init__(self, predictor, state_names):\n",
    "\n",
    "        self.predictor = predictor\n",
    "        self.modelHMM = HiddenMarkovModel()\n",
    "        self.le=LabelEncoder()\n",
    "        self.state_names = state_names\n",
    "\n",
    "    def fit(self, X, y):\n",
    "        \n",
    "        X, y = map(np.array, [X, y])\n",
    "        X_ = X.copy() \n",
    "        y_ = y.copy()\n",
    "        \n",
    "        np.reshape(X_, X_.shape, order='C')\n",
    "        np.reshape(y_, y_.shape, order='C')\n",
    "        \n",
    "        X_ = X_.astype('float32')\n",
    "        \n",
    "        X_simplified = self.le.fit_transform(self.predictor.predict(X_)).reshape(1, -1)\n",
    "        y_simplified = y_.reshape(1, -1)\n",
    "    \n",
    "        self.modelHMM = self.modelHMM.from_samples(\n",
    "            DiscreteDistribution, len(self.state_names), X_simplified, labels = y_simplified,\n",
    "            algorithm='labeled', state_names=self.state_names , verbose = True)\n",
    "        self.modelHMM.bake()\n",
    "           \n",
    "\n",
    "    def predict(self, X):\n",
    "        \n",
    "        X= np.array(X)\n",
    "        X_ = X.copy()\n",
    "        \n",
    "        np.reshape(X_, X_.shape, order='C')    \n",
    "        X_ = X_.astype('float32')\n",
    "            \n",
    "        X_simplified = self.le.transform(self.predictor.predict(X_)).tolist()\n",
    "        return self.modelHMM.predict(X_simplified)\n",
    "    \n",
    "    def score(self, X, y):\n",
    "        \n",
    "        target = self.predict(X)    \n",
    "        y = self.le.transform(y.to_numpy())\n",
    "        \n",
    "        return np.sum(target==y)/y.shape[0]"
   ]
  },
  {
   "cell_type": "code",
   "execution_count": 264,
   "metadata": {},
   "outputs": [],
   "source": [
    "from sklearn.preprocessing import LabelEncoder\n",
    "from pomegranate import HiddenMarkovModel\n",
    "from pomegranate.distributions import DiscreteDistribution\n",
    "import pomegranate as pg"
   ]
  },
  {
   "cell_type": "code",
   "execution_count": null,
   "metadata": {},
   "outputs": [],
   "source": []
  },
  {
   "cell_type": "code",
   "execution_count": 265,
   "metadata": {},
   "outputs": [],
   "source": [
    "dataHTrain = pd.concat([pd.read_csv(REPO_DIR + \"/data/data_{}.csv\".format(i), index_col=False) for i in [1,2]])\n",
    "dataHTrain.drop('Unnamed: 0', axis=1, inplace=True)\n",
    "dataHTrain.drop('timestamp', axis=1, inplace=True)\n",
    "dataHTest = pd.concat([pd.read_csv(REPO_DIR + \"/data/data_{}.csv\".format(i), index_col=False) for i in [3]])\n",
    "dataHTest.drop('Unnamed: 0', axis=1, inplace=True)\n",
    "dataHTest.drop('timestamp', axis=1, inplace=True)"
   ]
  },
  {
   "cell_type": "code",
   "execution_count": 266,
   "metadata": {},
   "outputs": [],
   "source": [
    "trainHX = dataHTrain.drop('label', axis=1)\n",
    "trainHY = dataHTrain['label']\n",
    "\n",
    "testHX = dataHTest.drop('label', axis=1)\n",
    "testHY = dataHTest['label']"
   ]
  },
  {
   "cell_type": "code",
   "execution_count": 270,
   "metadata": {},
   "outputs": [
    {
     "name": "stdout",
     "output_type": "stream",
     "text": [
      "[1] Improvement: 4304.927336080702\tTime (s): 0.05253\n",
      "[2] Improvement: 0.0\tTime (s): 0.03472\n",
      "Total Training Improvement: 4304.927336080702\n",
      "Total Training Time (s): 0.1400\n",
      "Faiss library classifier score: 0.7624750499001997\n"
     ]
    }
   ],
   "source": [
    "hmm_faiss = smoothHMM(kmeansFaiss, state_names=['music', 'speech'])\n",
    "hmm_faiss.fit(trainHX, trainHY)\n",
    "print('Faiss library classifier score:', hmm_faiss.score(testHX, testHY))"
   ]
  },
  {
   "cell_type": "code",
   "execution_count": 271,
   "metadata": {},
   "outputs": [
    {
     "name": "stdout",
     "output_type": "stream",
     "text": [
      "[1] Improvement: 4282.8583965135895\tTime (s): 0.05066\n",
      "[2] Improvement: 0.0\tTime (s): 0.03193\n",
      "Total Training Improvement: 4282.8583965135895\n",
      "Total Training Time (s): 0.1342\n",
      "Sklearn library classifier score: 0.7572854291417166\n"
     ]
    }
   ],
   "source": [
    "hmm_sklearn = smoothHMM(kmeansSklearn, state_names=['music', 'speech'])\n",
    "hmm_sklearn.fit(trainHX, trainHY)\n",
    "print('Sklearn library classifier score:', hmm_sklearn.score(testHX, testHY))"
   ]
  },
  {
   "cell_type": "code",
   "execution_count": null,
   "metadata": {},
   "outputs": [],
   "source": []
  },
  {
   "cell_type": "code",
   "execution_count": null,
   "metadata": {},
   "outputs": [],
   "source": []
  },
  {
   "cell_type": "code",
   "execution_count": null,
   "metadata": {},
   "outputs": [],
   "source": []
  },
  {
   "cell_type": "code",
   "execution_count": null,
   "metadata": {},
   "outputs": [],
   "source": []
  },
  {
   "cell_type": "code",
   "execution_count": null,
   "metadata": {},
   "outputs": [],
   "source": []
  },
  {
   "cell_type": "code",
   "execution_count": null,
   "metadata": {},
   "outputs": [],
   "source": []
  },
  {
   "cell_type": "code",
   "execution_count": null,
   "metadata": {},
   "outputs": [],
   "source": []
  },
  {
   "cell_type": "code",
   "execution_count": null,
   "metadata": {},
   "outputs": [],
   "source": []
  }
 ],
 "metadata": {
  "kernelspec": {
   "display_name": "swimtraxx",
   "language": "python",
   "name": "swimtraxx"
  },
  "language_info": {
   "codemirror_mode": {
    "name": "ipython",
    "version": 3
   },
   "file_extension": ".py",
   "mimetype": "text/x-python",
   "name": "python",
   "nbconvert_exporter": "python",
   "pygments_lexer": "ipython3",
   "version": "3.8.3"
  }
 },
 "nbformat": 4,
 "nbformat_minor": 2
}
