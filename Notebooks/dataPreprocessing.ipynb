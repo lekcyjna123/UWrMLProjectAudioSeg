{
 "cells": [
  {
   "cell_type": "code",
   "execution_count": 1,
   "metadata": {},
   "outputs": [],
   "source": [
    "import librosa as rosa\n",
    "import librosa.display\n",
    "import numpy as np\n",
    "import matplotlib.pyplot as plt\n",
    "from warnings import warn\n",
    "import pickle\n",
    "import os\n",
    "import IPython.display as ipd"
   ]
  },
  {
   "cell_type": "markdown",
   "metadata": {},
   "source": [
    "# Stałe"
   ]
  },
  {
   "cell_type": "code",
   "execution_count": 2,
   "metadata": {},
   "outputs": [],
   "source": [
    "dataDirPath=\"../data/\"\n",
    "#namesMainParts=[\"1\"]\n",
    "namesMainParts=[\"1\",\"2\",\"3\"]\n",
    "audioFilePrefix=\"audio\"\n",
    "audioFileSufix=\".wav\"\n",
    "labelFilePrefix=\"labels\"\n",
    "labelFileSufix=\".txt\""
   ]
  },
  {
   "cell_type": "code",
   "execution_count": 3,
   "metadata": {},
   "outputs": [],
   "source": [
    "subfragmentsDir=\"../subfragments/\"\n",
    "subfragmentLengthInSeconds=1\n",
    "# ratio used to calculate muber of subfragments to generate from fragment\n",
    "# if L is length of fragment in second, S length of subfragment in seconds\n",
    "# then from this subfragment will be generated L/S*subfragToFragLengthRatio+1 subfragments\n",
    "subfragToFragLengthRatio=0.5"
   ]
  },
  {
   "cell_type": "code",
   "execution_count": 4,
   "metadata": {},
   "outputs": [],
   "source": [
    "typeList=[\"m\",\"s\",\"j\",\"sm\",\"pc\"]"
   ]
  },
  {
   "cell_type": "code",
   "execution_count": 5,
   "metadata": {},
   "outputs": [],
   "source": [
    "os.makedirs(subfragmentsDir, exist_ok=True)\n",
    "for typ in typeList:\n",
    "    os.makedirs(subfragmentsDir+typ, exist_ok=True)"
   ]
  },
  {
   "cell_type": "code",
   "execution_count": 15,
   "metadata": {},
   "outputs": [],
   "source": [
    "datasetDir=\"../dataset/\"\n",
    "os.makedirs(datasetDir, exist_ok=True)"
   ]
  },
  {
   "cell_type": "markdown",
   "metadata": {},
   "source": [
    "# Pierwsze zabawy z librosa"
   ]
  },
  {
   "cell_type": "code",
   "execution_count": 39,
   "metadata": {},
   "outputs": [
    {
     "name": "stdout",
     "output_type": "stream",
     "text": [
      "CPU times: user 6.93 s, sys: 4.99 s, total: 11.9 s\n",
      "Wall time: 18.4 s\n"
     ]
    }
   ],
   "source": [
    "%%time\n",
    "audio1, sr=rosa.load(\"../data/audio1.wav\")"
   ]
  },
  {
   "cell_type": "code",
   "execution_count": 5,
   "metadata": {},
   "outputs": [
    {
     "data": {
      "text/plain": [
       "array([0.0000000e+00, 0.0000000e+00, 0.0000000e+00, ..., 7.6293945e-05,\n",
       "       6.1035156e-05, 4.5776367e-05], dtype=float32)"
      ]
     },
     "execution_count": 5,
     "metadata": {},
     "output_type": "execute_result"
    }
   ],
   "source": [
    "audio1"
   ]
  },
  {
   "cell_type": "code",
   "execution_count": 45,
   "metadata": {},
   "outputs": [
    {
     "name": "stdout",
     "output_type": "stream",
     "text": [
      "CPU times: user 2.4 ms, sys: 2.95 ms, total: 5.35 ms\n",
      "Wall time: 4.22 ms\n"
     ]
    }
   ],
   "source": [
    "%%time\n",
    "audioFFT=rosa.stft(audio1[:22050*1])"
   ]
  },
  {
   "cell_type": "code",
   "execution_count": 46,
   "metadata": {},
   "outputs": [
    {
     "data": {
      "text/plain": [
       "(1025, 44)"
      ]
     },
     "execution_count": 46,
     "metadata": {},
     "output_type": "execute_result"
    }
   ],
   "source": [
    "audioFFT.shape"
   ]
  },
  {
   "cell_type": "markdown",
   "metadata": {},
   "source": [
    "# Parsowanie etykiet"
   ]
  },
  {
   "cell_type": "code",
   "execution_count": 6,
   "metadata": {},
   "outputs": [],
   "source": [
    "def parseLabelFile(pathToFile):\n",
    "    startsOfFragments={\"m\":[], \"s\":[], \"j\":[], \"sm\":[], \"pc\":[]}\n",
    "    with open(pathToFile, \"r\") as labelFile:\n",
    "        labelFile.readline()\n",
    "        for line in labelFile:\n",
    "            line=line[:-1]\n",
    "            listedLine=line.split(\",\")\n",
    "            if listedLine[-1]==\"\":\n",
    "                listedLine=listedLine[:-1]\n",
    "            timestamp=listedLine[0].split(\":\")\n",
    "            timeInSeconds=int(timestamp[-1])+int(timestamp[-2])*60+int(timestamp[-3])*3600\n",
    "            if listedLine[1]==\"silence\":\n",
    "                continue\n",
    "            elif listedLine[1]==\"music\":\n",
    "                if len(listedLine)>2:\n",
    "                    if listedLine[2]==\"jingle\":\n",
    "                        startsOfFragments[\"j\"].append(timeInSeconds)\n",
    "                        continue\n",
    "                    else:\n",
    "                        warn(RuntimeWarning(\"Second argument isn't recognized: \"+listedLine[2]))\n",
    "                startsOfFragments[\"m\"].append(timeInSeconds)\n",
    "            elif listedLine[1]==\"speech\":\n",
    "                if len(listedLine)>2:\n",
    "                    if listedLine[2]==\"musicinthebackground\":\n",
    "                        startsOfFragments[\"sm\"].append(timeInSeconds)\n",
    "                        continue\n",
    "                    elif listedLine[2]==\"phonecall\":\n",
    "                        startsOfFragments[\"pc\"].append(timeInSeconds)\n",
    "                        continue\n",
    "                    else:\n",
    "                        warn(RuntimeWarning(\"Second argument isn't recognized: \"+listedLine[2]))\n",
    "                startsOfFragments['s'].append(timeInSeconds)\n",
    "            else:\n",
    "                warn(RuntimeWarning(\"Type argument isn't recognized: \"+listedLine[1]))\n",
    "    return startsOfFragments"
   ]
  },
  {
   "cell_type": "code",
   "execution_count": 7,
   "metadata": {},
   "outputs": [],
   "source": [
    "class AudioFragment:\n",
    "    def __init__(self, typ, audio, startPointInSec, fileName,sr):\n",
    "        self.typ=typ\n",
    "        self.audio=audio\n",
    "        self.startPoint=startPointInSec\n",
    "        self.fileName=fileName\n",
    "        self.sr=sr\n",
    "    def drawSubfragment(self, lengthInSeconds):\n",
    "        lengthInProbes=self.sr*lengthInSeconds\n",
    "        if len(self.audio)<lengthInProbes:\n",
    "            raise RuntimeError(\"Fragment is to short to generate requested length.\")\n",
    "        index=np.random.randint(0,len(self.audio)-lengthInProbes+1)\n",
    "        return self.audio[index:index+lengthInProbes].copy()\n",
    "    def getLengthInSeconds(self):\n",
    "        return len(self.audio)/self.sr"
   ]
  },
  {
   "cell_type": "code",
   "execution_count": 8,
   "metadata": {},
   "outputs": [],
   "source": [
    "class SubfragmentIndex:\n",
    "    def __init__(self):\n",
    "        self.numberOfSubfragments=0\n",
    "        self.subfragmentsByType={\"m\":[], \"s\":[], \"j\":[], \"sm\":[], \"pc\":[]}\n",
    "    def getNextNumberOfSubfragment(self):\n",
    "        return self.numberOfSubfragments+1\n",
    "    def addNewSubfragmentToIndex(self, subfragmentPath, subfragmentTyp):\n",
    "        self.numberOfSubfragments+=1\n",
    "        self.subfragmentsByType[subfragmentTyp].append(subfragmentPath)\n",
    "        return\n",
    "    def drawRandomSubfragment(self):\n",
    "        r=np.random.randint(0, self.numberOfSubfragments)\n",
    "        for typ in self.subfragmentsByType:\n",
    "            if r>len(self.subfragmentsByType[typ]):\n",
    "                r-=len(self.subfragmentsByType[typ])\n",
    "            else:\n",
    "                return self.subfragmentsByType[typ][r]\n",
    "        raise RuntimeError(\"Coś poszło bardzo nie tak.\")\n",
    "    def drawRandomByType(self, typ):\n",
    "        r=np.random.randint(0, len(self.subfragmentsByType[typ]))\n",
    "        return self.subfragmentsByType[typ][r]"
   ]
  },
  {
   "cell_type": "code",
   "execution_count": 9,
   "metadata": {},
   "outputs": [],
   "source": [
    "def generateSubfragments():\n",
    "    subfInd=SubfragmentIndex()\n",
    "    for name in namesMainParts:\n",
    "        audioFilePath=dataDirPath+audioFilePrefix+name+audioFileSufix\n",
    "        labelFilePath=dataDirPath+labelFilePrefix+name+labelFileSufix\n",
    "        audio, sr=rosa.load(audioFilePath)\n",
    "        if (sr!=22050):\n",
    "            warn(\"Sapling rate of file: \"+audioFilePath+\" is diffrent than 22050.\")\n",
    "        startOfFragmentsDict=parseLabelFile(labelFilePath)\n",
    "\n",
    "        sortedListOfStarts=[]\n",
    "        for typ in startOfFragmentsDict:\n",
    "            sortedListOfStarts.extend(startOfFragmentsDict[typ])\n",
    "        sortedListOfStarts.sort()\n",
    "\n",
    "        for typ in startOfFragmentsDict:\n",
    "            for start in startOfFragmentsDict[typ]:\n",
    "                index=sortedListOfStarts.index(start)\n",
    "                if index+1==len(sortedListOfStarts):\n",
    "                    end=int(len(audio)/sr)\n",
    "                else:\n",
    "                    end=sortedListOfStarts[index+1]\n",
    "                af=(AudioFragment(typ, audio[start*sr:end*sr], start, audioFilePath, sr))\n",
    "                numberOfSubfragmentsToGenerate=int(af.getLengthInSeconds()/subfragmentLengthInSeconds*\\\n",
    "                    subfragToFragLengthRatio+1)\n",
    "                try:\n",
    "                    for i in range(numberOfSubfragmentsToGenerate):\n",
    "                        subfragment=af.drawSubfragment(subfragmentLengthInSeconds)\n",
    "                        subfragmentFFT=np.abs(rosa.stft(subfragment, hop_length=1024))\n",
    "                        picklePath=subfragmentsDir+typ+\"/\"+str(subfInd.getNextNumberOfSubfragment())+\".pickle\"\n",
    "                        with open(picklePath,\"wb\") as pickleFile:\n",
    "                            pickle.dump(subfragmentFFT, pickleFile)\n",
    "                        subfInd.addNewSubfragmentToIndex(picklePath, typ)\n",
    "                except RuntimeError:\n",
    "                    pass\n",
    "    return subfInd"
   ]
  },
  {
   "cell_type": "code",
   "execution_count": 10,
   "metadata": {},
   "outputs": [],
   "source": [
    "SI=generateSubfragments()"
   ]
  },
  {
   "cell_type": "markdown",
   "metadata": {},
   "source": [
    "# Creating test sets"
   ]
  },
  {
   "cell_type": "code",
   "execution_count": 13,
   "metadata": {},
   "outputs": [],
   "source": [
    "def createTestSet(subfragIndex, testSetSize, typeWeights, savePath):\n",
    "    for typ in typeWeights:\n",
    "        expectedNumber=typeWeights[typ]*testSetSize\n",
    "        if len(subfragIndex.subfragmentsByType[typ])<expectedNumber:\n",
    "            warn(\"There is less subfragments for type: \"+typ+\" than expected number of samples in dataset.\")\n",
    "    randomTypes=np.random.choice(len(typeWeights.keys()),size=testSetSize, p=list(typeWeights.values()))\n",
    "    keys=list(typeWeights.keys())\n",
    "    \n",
    "    dataList=[]\n",
    "    for randomTyp in randomTypes:\n",
    "        typ=keys[randomTyp]\n",
    "        randSubfPath=subfragIndex.drawRandomByType(typ)\n",
    "        with open(randSubfPath, \"rb\") as pickleFile:\n",
    "            dataList.append(pickle.load(pickleFile))\n",
    "    with open(savePath, \"wb\") as pickleFile:\n",
    "        pickle.dump(dataList, pickleFile)"
   ]
  },
  {
   "cell_type": "code",
   "execution_count": 20,
   "metadata": {},
   "outputs": [],
   "source": [
    "def generateTestsSets(numberOfSets, sizes):\n",
    "    for s in sizes:\n",
    "        for i in range(numberOfSets):\n",
    "            createTestSet(SI, s, {\"m\":0.5, \"s\":0.25, \"j\":0, \"sm\":0.125, \"pc\":0.125}, \n",
    "                          datasetDir+\"dataset{}-{}.pickle\".format(s,i))"
   ]
  },
  {
   "cell_type": "code",
   "execution_count": null,
   "metadata": {},
   "outputs": [],
   "source": [
    "generateTestsSets(3, [50, 100, 500])"
   ]
  },
  {
   "cell_type": "code",
   "execution_count": 22,
   "metadata": {},
   "outputs": [],
   "source": [
    "generateTestsSets(3, [1000])"
   ]
  },
  {
   "cell_type": "code",
   "execution_count": null,
   "metadata": {},
   "outputs": [],
   "source": []
  }
 ],
 "metadata": {
  "kernelspec": {
   "display_name": "Python 3",
   "language": "python",
   "name": "python3"
  },
  "language_info": {
   "codemirror_mode": {
    "name": "ipython",
    "version": 3
   },
   "file_extension": ".py",
   "mimetype": "text/x-python",
   "name": "python",
   "nbconvert_exporter": "python",
   "pygments_lexer": "ipython3",
   "version": "3.9.1"
  }
 },
 "nbformat": 4,
 "nbformat_minor": 4
}
