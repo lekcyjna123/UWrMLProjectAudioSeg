{
 "cells": [
  {
   "cell_type": "code",
   "execution_count": null,
   "metadata": {},
   "outputs": [],
   "source": [
    "!pip install sox\n",
    "!pip install pydub\n",
    "!pip install librosa\n",
    "!pip install pomegranate\n",
    "!pip install faiss"
   ]
  },
  {
   "cell_type": "code",
   "execution_count": 99,
   "metadata": {},
   "outputs": [],
   "source": [
    "import librosa as rosa\n",
    "import seaborn as sns\n",
    "import matplotlib.pyplot as plt\n",
    "import IPython.display as ipd\n",
    "import librosa.display\n",
    "import numpy as np\n",
    "import scipy as sp\n",
    "import scipy.stats as sstats\n",
    "import pandas as pd\n",
    "import pomegranate as pg\n",
    "import pickle\n",
    "import os\n",
    "import pydub\n",
    "import sox\n",
    "import datetime\n",
    "import faiss\n",
    "\n",
    "from warnings import warn\n",
    "from tqdm.auto import tqdm\n",
    "\n",
    "\n",
    "from sklearn.neighbors import KNeighborsClassifier\n",
    "from sklearn.model_selection import train_test_split, cross_val_score, cross_validate\n",
    "from sklearn.metrics import accuracy_score, f1_score, balanced_accuracy_score\n",
    "from sklearn.ensemble import RandomForestClassifier\n",
    "from sklearn.linear_model import Lasso\n",
    "from sklearn import svm\n",
    "from sklearn.cluster import KMeans\n",
    "from sklearn import tree\n",
    "from pomegranate import HiddenMarkovModel\n",
    "from pomegranate.distributions import DiscreteDistribution\n",
    "from sklearn.decomposition import PCA\n",
    "from sklearn.preprocessing import LabelEncoder, StandardScaler\n",
    "from sklearn.model_selection import train_test_split\n",
    "from sklearn.metrics import accuracy_score, f1_score, balanced_accuracy_score\n",
    "\n",
    "%matplotlib inline"
   ]
  },
  {
   "cell_type": "markdown",
   "metadata": {},
   "source": [
    "# Preprocessing first method"
   ]
  },
  {
   "cell_type": "code",
   "execution_count": null,
   "metadata": {},
   "outputs": [],
   "source": [
    "dataDirPath=\"../data/\"\n",
    "namesMainParts=[\"1\",\"2\",\"3\"]\n",
    "audioFilePrefix=\"audio\"\n",
    "audioFileSufix=\".wav\"\n",
    "labelFilePrefix=\"labels\"\n",
    "labelFileSufix=\".txt\""
   ]
  },
  {
   "cell_type": "code",
   "execution_count": null,
   "metadata": {},
   "outputs": [],
   "source": [
    "subfragmentsDir=\"../subfragments/\"\n",
    "sortedSubfragmentsDir=\"../sortedSubfragments/\"\n",
    "subfragmentLengthInSeconds=1\n",
    "# ratio used to calculate muber of subfragments to generate from fragment\n",
    "# if L is length of fragment in second, S length of subfragment in seconds\n",
    "# then from this subfragment will be generated L/S*subfragToFragLengthRatio+1 subfragments\n",
    "subfragToFragLengthRatio=0.5"
   ]
  },
  {
   "cell_type": "code",
   "execution_count": null,
   "metadata": {},
   "outputs": [],
   "source": [
    "typeList=[\"m\",\"s\",\"j\",\"sm\",\"pc\"]"
   ]
  },
  {
   "cell_type": "code",
   "execution_count": null,
   "metadata": {},
   "outputs": [],
   "source": [
    "os.makedirs(sortedSubfragmentsDir, exist_ok=True)\n",
    "for typ in typeList:\n",
    "    os.makedirs(sortedSubfragmentsDir+typ, exist_ok=True)"
   ]
  },
  {
   "cell_type": "markdown",
   "metadata": {},
   "source": [
    "## Label Parsing"
   ]
  },
  {
   "cell_type": "code",
   "execution_count": null,
   "metadata": {},
   "outputs": [],
   "source": [
    "def parseLabelFile(pathToFile):\n",
    "    startsOfFragments={\"m\":[], \"s\":[], \"j\":[], \"sm\":[], \"pc\":[]}\n",
    "    with open(pathToFile, \"r\") as labelFile:\n",
    "        labelFile.readline()\n",
    "        for line in labelFile:\n",
    "            line=line[:-1]\n",
    "            listedLine=line.split(\",\")\n",
    "            if listedLine[-1]==\"\":\n",
    "                listedLine=listedLine[:-1]\n",
    "            timestamp=listedLine[0].split(\":\")\n",
    "            timeInSeconds=int(timestamp[-1])+int(timestamp[-2])*60+int(timestamp[-3])*3600\n",
    "            if listedLine[1]==\"silence\":\n",
    "                continue\n",
    "            elif listedLine[1]==\"music\":\n",
    "                if len(listedLine)>2:\n",
    "                    if listedLine[2]==\"jingle\":\n",
    "                        startsOfFragments[\"j\"].append(timeInSeconds)\n",
    "                        continue\n",
    "                    else:\n",
    "                        warn(RuntimeWarning(\"Second argument isn't recognized: \"+listedLine[2]))\n",
    "                startsOfFragments[\"m\"].append(timeInSeconds)\n",
    "            elif listedLine[1]==\"speech\":\n",
    "                if len(listedLine)>2:\n",
    "                    if listedLine[2]==\"musicinthebackground\":\n",
    "                        startsOfFragments[\"sm\"].append(timeInSeconds)\n",
    "                        continue\n",
    "                    elif listedLine[2]==\"phonecall\":\n",
    "                        startsOfFragments[\"pc\"].append(timeInSeconds)\n",
    "                        continue\n",
    "                    else:\n",
    "                        warn(RuntimeWarning(\"Second argument isn't recognized: \"+listedLine[2]))\n",
    "                startsOfFragments['s'].append(timeInSeconds)\n",
    "            else:\n",
    "                warn(RuntimeWarning(\"Type argument isn't recognized: \"+listedLine[1]))\n",
    "    return startsOfFragments"
   ]
  },
  {
   "cell_type": "code",
   "execution_count": null,
   "metadata": {},
   "outputs": [],
   "source": [
    "class AudioFragment:\n",
    "    def __init__(self, typ, audio, startPointInSec, fileName,sr):\n",
    "        self.typ=typ\n",
    "        self.audio=audio\n",
    "        self.startPoint=startPointInSec\n",
    "        self.fileName=fileName\n",
    "        self.sr=sr\n",
    "    def drawSubfragment(self, lengthInSeconds):\n",
    "        lengthInProbes=self.sr*lengthInSeconds\n",
    "        if len(self.audio)<lengthInProbes:\n",
    "            raise RuntimeError(\"Fragment is to short to generate requested length.\")\n",
    "        index=np.random.randint(0,len(self.audio)-lengthInProbes+1)\n",
    "        return self.audio[index:index+lengthInProbes].copy()\n",
    "    def getLengthInSeconds(self):\n",
    "        return len(self.audio)/self.sr"
   ]
  },
  {
   "cell_type": "code",
   "execution_count": null,
   "metadata": {},
   "outputs": [],
   "source": [
    "class SubfragmentIndex:\n",
    "    def __init__(self):\n",
    "        self.numberOfSubfragments=0\n",
    "        self.subfragmentsByType={\"m\":[], \"s\":[], \"j\":[], \"sm\":[], \"pc\":[]}\n",
    "    def getNextNumberOfSubfragment(self):\n",
    "        return self.numberOfSubfragments+1\n",
    "    def addNewSubfragmentToIndex(self, subfragmentPath, subfragmentTyp):\n",
    "        self.numberOfSubfragments+=1\n",
    "        self.subfragmentsByType[subfragmentTyp].append(subfragmentPath)\n",
    "        return\n",
    "    def drawRandomSubfragment(self):\n",
    "        r=np.random.randint(0, self.numberOfSubfragments)\n",
    "        for typ in self.subfragmentsByType:\n",
    "            if r>len(self.subfragmentsByType[typ]):\n",
    "                r-=len(self.subfragmentsByType[typ])\n",
    "            else:\n",
    "                return self.subfragmentsByType[typ][r]\n",
    "        raise RuntimeError(\"Something went wrong\")\n",
    "    def drawRandomByType(self, typ):\n",
    "        r=np.random.randint(0, len(self.subfragmentsByType[typ]))\n",
    "        return self.subfragmentsByType[typ][r]"
   ]
  },
  {
   "cell_type": "code",
   "execution_count": null,
   "metadata": {},
   "outputs": [],
   "source": [
    "def generateSubfragments():\n",
    "    subfInd=SubfragmentIndex()\n",
    "    for name in namesMainParts:\n",
    "        audioFilePath=dataDirPath+audioFilePrefix+name+audioFileSufix\n",
    "        labelFilePath=dataDirPath+labelFilePrefix+name+labelFileSufix\n",
    "        audio, sr=rosa.load(audioFilePath)\n",
    "        if (sr!=22050):\n",
    "            warn(\"Sapling rate of file: \"+audioFilePath+\" is diffrent than 22050.\")\n",
    "        startOfFragmentsDict=parseLabelFile(labelFilePath)\n",
    "\n",
    "        sortedListOfStarts=[]\n",
    "        for typ in startOfFragmentsDict:\n",
    "            sortedListOfStarts.extend(startOfFragmentsDict[typ])\n",
    "        sortedListOfStarts.sort()\n",
    "\n",
    "        for typ in startOfFragmentsDict:\n",
    "            for start in startOfFragmentsDict[typ]:\n",
    "                index=sortedListOfStarts.index(start)\n",
    "                if index+1==len(sortedListOfStarts):\n",
    "                    end=int(len(audio)/sr)\n",
    "                else:\n",
    "                    end=sortedListOfStarts[index+1]\n",
    "                af=(AudioFragment(typ, audio[start*sr:end*sr], start, audioFilePath, sr))\n",
    "                numberOfSubfragmentsToGenerate=int(af.getLengthInSeconds()/subfragmentLengthInSeconds*\\\n",
    "                    subfragToFragLengthRatio+1)\n",
    "                try:\n",
    "                    for i in range(numberOfSubfragmentsToGenerate):\n",
    "                        subfragment=af.drawSubfragment(subfragmentLengthInSeconds)\n",
    "                        subfragmentFFT=np.abs(rosa.stft(subfragment, hop_length=1024))\n",
    "                        picklePath=subfragmentsDir+typ+\"/\"+str(subfInd.getNextNumberOfSubfragment())+\".pickle\"\n",
    "                        with open(picklePath,\"wb\") as pickleFile:\n",
    "                            pickle.dump(subfragmentFFT, pickleFile)\n",
    "                        subfInd.addNewSubfragmentToIndex(picklePath, typ)\n",
    "                except RuntimeError:\n",
    "                    pass\n",
    "    return subfInd"
   ]
  },
  {
   "cell_type": "code",
   "execution_count": null,
   "metadata": {},
   "outputs": [],
   "source": [
    "def generateSubfragmentsSorted():\n",
    "    subfInd=SubfragmentIndex()\n",
    "    listOfPaths=[]\n",
    "    for name in namesMainParts:\n",
    "        audioFilePath=dataDirPath+audioFilePrefix+name+audioFileSufix\n",
    "        labelFilePath=dataDirPath+labelFilePrefix+name+labelFileSufix\n",
    "        audio, sr=rosa.load(audioFilePath)\n",
    "        if (sr!=22050):\n",
    "            warn(\"Sapling rate of file: \"+audioFilePath+\" is diffrent than 22050.\")\n",
    "        startOfFragmentsDict=parseLabelFile(labelFilePath)\n",
    "\n",
    "        sortedListOfStarts=[]\n",
    "        for typ in startOfFragmentsDict:\n",
    "            sortedListOfStarts.extend(startOfFragmentsDict[typ])\n",
    "        sortedListOfStarts.sort()\n",
    "\n",
    "        for typ in startOfFragmentsDict:\n",
    "            for start in startOfFragmentsDict[typ]:\n",
    "                index=sortedListOfStarts.index(start)\n",
    "                if index+1==len(sortedListOfStarts):\n",
    "                    end=int(len(audio)/sr)\n",
    "                else:\n",
    "                    end=sortedListOfStarts[index+1]\n",
    "                af=(AudioFragment(typ, audio[start*sr:end*sr], start, audioFilePath, sr))\n",
    "                                \n",
    "                for i in range(0, int(af.getLengthInSeconds()-2*subfragmentLengthInSeconds), \n",
    "                               subfragmentLengthInSeconds):\n",
    "                    subfragment=af.audio[i*af.sr : (i+subfragmentLengthInSeconds)*af.sr]\n",
    "                    subfragmentFFT=np.abs(rosa.stft(subfragment, hop_length=1024))\n",
    "                    picklePath=sortedSubfragmentsDir+typ+\"/\"+str(subfInd.getNextNumberOfSubfragment())+\".pickle\"\n",
    "                    with open(picklePath,\"wb\") as pickleFile:\n",
    "                        pickle.dump(subfragmentFFT, pickleFile)\n",
    "                    subfInd.addNewSubfragmentToIndex(picklePath, typ)\n",
    "                    listOfPaths.append(picklePath)\n",
    "    return subfInd, listOfPaths"
   ]
  },
  {
   "cell_type": "code",
   "execution_count": null,
   "metadata": {},
   "outputs": [],
   "source": [
    "SI=generateSubfragments()"
   ]
  },
  {
   "cell_type": "code",
   "execution_count": null,
   "metadata": {},
   "outputs": [],
   "source": [
    "SSI, listOfPaths=generateSubfragmentsSorted()"
   ]
  },
  {
   "cell_type": "markdown",
   "metadata": {},
   "source": [
    "## Creating Testsets for predictor"
   ]
  },
  {
   "cell_type": "code",
   "execution_count": null,
   "metadata": {},
   "outputs": [],
   "source": [
    "def createTestSet(subfragIndex, testSetSize, typeWeights, savePath):\n",
    "    for typ in typeWeights:\n",
    "        expectedNumber=typeWeights[typ]*testSetSize\n",
    "        if len(subfragIndex.subfragmentsByType[typ])<expectedNumber:\n",
    "            warn(\"There is less subfragments for type: \"+typ+\" than expected number of samples in dataset.\")\n",
    "    randomTypes=np.random.choice(len(typeWeights.keys()),size=testSetSize, p=list(typeWeights.values()))\n",
    "    keys=list(typeWeights.keys())\n",
    "    \n",
    "    dataList=[]\n",
    "    labelList=[]\n",
    "    for randomTyp in randomTypes:\n",
    "        typ=keys[randomTyp]\n",
    "        randSubfPath=subfragIndex.drawRandomByType(typ)\n",
    "        with open(randSubfPath, \"rb\") as pickleFile:\n",
    "            dataList.append(pickle.load(pickleFile))\n",
    "            labelList.append(typ)\n",
    "    with open(savePath, \"wb\") as pickleFile:\n",
    "        pickle.dump((dataList, labelList), pickleFile)"
   ]
  },
  {
   "cell_type": "code",
   "execution_count": null,
   "metadata": {},
   "outputs": [],
   "source": [
    "def generateTestsSets(numberOfSets, sizes):\n",
    "    for s in sizes:\n",
    "        for i in range(numberOfSets):\n",
    "            createTestSet(SI, s, {\"m\":0.5, \"s\":0.25, \"j\":0, \"sm\":0.125, \"pc\":0.125}, \n",
    "                          datasetDir+\"dataset{}-{}.pickle\".format(s,i))"
   ]
  },
  {
   "cell_type": "code",
   "execution_count": null,
   "metadata": {},
   "outputs": [],
   "source": [
    "generateTestsSets(3, [1000])"
   ]
  },
  {
   "cell_type": "markdown",
   "metadata": {},
   "source": [
    "## Creating Testsets for HMM"
   ]
  },
  {
   "cell_type": "code",
   "execution_count": null,
   "metadata": {},
   "outputs": [],
   "source": [
    "testSetSize=int(len(listOfPaths)/3)\n",
    "trainSetSize=len(listOfPaths)-testSetSize\n",
    "\n",
    "trainDataList=[]\n",
    "trainLabelList=[]\n",
    "for i in range(trainSetSize):\n",
    "    path=listOfPaths[i]\n",
    "    typeOfPath=apth.split(\"/\")[2]\n",
    "    trainLabelList.append(typeOfPath)\n",
    "    with open(path, \"rb\") as pickleFile:\n",
    "        trainDataList.append(pickle.load(pickleFile))\n",
    "\n",
    "testDataList=[]\n",
    "testLabelList=[]\n",
    "for i in range(testSetSize):\n",
    "    path=listaSciezek[i+trainSetSize]\n",
    "    typeOfPath=path.split(\"/\")[2]\n",
    "    testLabelList.append(typeOfPath)\n",
    "    with open(path, \"rb\") as pickleFile:\n",
    "        testDataList.append(pickle.load(pickleFile))   "
   ]
  },
  {
   "cell_type": "markdown",
   "metadata": {},
   "source": [
    "# Preprocesing second method"
   ]
  },
  {
   "cell_type": "code",
   "execution_count": null,
   "metadata": {},
   "outputs": [],
   "source": [
    "REPO_DIR = \"/mnt/c/Users/zobni/Programming/UWrMLProjectAudioSeg/\"\n",
    "AUDIO_TYPE = \".wav\"\n",
    "SECOND = 1000"
   ]
  },
  {
   "cell_type": "code",
   "execution_count": null,
   "metadata": {},
   "outputs": [],
   "source": [
    "os.chdir(REPO_DIR)\n",
    "os.listdir(REPO_DIR + \"/data\")\n",
    "for i in [1, 2, 3]:\n",
    "    os.makedirs(REPO_DIR + \"/data/audio{}\".format(i), exist_ok=True)"
   ]
  },
  {
   "cell_type": "markdown",
   "metadata": {},
   "source": [
    "## Audio1"
   ]
  },
  {
   "cell_type": "code",
   "execution_count": null,
   "metadata": {},
   "outputs": [],
   "source": [
    "audio = pydub.AudioSegment.from_wav(REPO_DIR + \"data/audio1.wav\")\n",
    "new_audio = [audio[i * SECOND : (i + 1) * SECOND] for i in range(len(audio)//SECOND)]\n",
    "for fragment in enumerate(new_audio):\n",
    "    fragment[1].export(\"data/audio1/audio1_{}.wav\".format(fragment[0] + 1), format=\"wav\")\n",
    "labels_df = pd.read_csv('data/labels1.txt')[['timestamp', 'label']]\n",
    "labels_df['timestamp'] = labels_df['timestamp'].apply(lambda x: datetime.datetime.strptime(x, \"%H:%M:%S\"))\n",
    "labels_df = labels_df.set_index('timestamp')\n",
    "labels_df = labels_df.resample('1S').pad()\n",
    "labels_df['seconds'] = labels_df.index\n",
    "labels_df['seconds'] = labels_df['seconds'].apply(lambda x: int((x - datetime.datetime(1900, 1, 1)).total_seconds()))\n",
    "labels_df.to_csv(REPO_DIR + '/data/labels1_long.csv', index=False)"
   ]
  },
  {
   "cell_type": "code",
   "execution_count": null,
   "metadata": {},
   "outputs": [],
   "source": [
    "rows = []\n",
    "for second in tqdm(labels_df['seconds']):\n",
    "    y, sr = librosa.load(REPO_DIR + \"data/audio1/audio1_{}.wav\".format(second))\n",
    "    label = labels_df[labels_df['seconds'] == second]['label'][0]\n",
    "    chroma_stft = np.mean(librosa.feature.chroma_stft(y=y, sr=sr))\n",
    "    rmse = np.mean(librosa.feature.rms(y=y))\n",
    "    spec_cent = np.mean(librosa.feature.spectral_centroid(y=y, sr=sr))\n",
    "    spec_bw = np.mean(librosa.feature.spectral_bandwidth(y=y, sr=sr))\n",
    "    rolloff = np.mean(librosa.feature.spectral_rolloff(y=y, sr=sr))\n",
    "    zcr = np.mean(librosa.feature.zero_crossing_rate(y))\n",
    "    mfcc = librosa.feature.mfcc(y=y, sr=sr)\n",
    "    mfccs = []\n",
    "    for e in mfcc:\n",
    "        mfccs.append(np.mean(e))\n",
    "    obs = [second, label, rmse, chroma_stft, spec_cent, spec_bw, rolloff, zcr]\n",
    "    obs.extend(mfccs)\n",
    "    rows.append(obs)"
   ]
  },
  {
   "cell_type": "code",
   "execution_count": null,
   "metadata": {},
   "outputs": [],
   "source": [
    "columns = ['timestamp', 'label', 'chroma_stft', 'rmse', 'spec_cent', 'spec_bw', 'rolloff', 'zcr']\n",
    "columns.extend(['mfcc_{}'.format(i) for i in range(len(mfcc))])\n",
    "data = pd.DataFrame(rows, columns = columns)\n",
    "data.head()\n",
    "data.to_csv(REPO_DIR + \"/data/data_1.csv\")"
   ]
  },
  {
   "cell_type": "markdown",
   "metadata": {},
   "source": [
    "## Audio2"
   ]
  },
  {
   "cell_type": "code",
   "execution_count": null,
   "metadata": {},
   "outputs": [],
   "source": [
    "audio = pydub.AudioSegment.from_wav(REPO_DIR + \"data/audio2.wav\")"
   ]
  },
  {
   "cell_type": "code",
   "execution_count": null,
   "metadata": {},
   "outputs": [],
   "source": [
    "new_audio = [audio[i * SECOND : (i + 1) * SECOND] for i in range(len(audio)//SECOND)]"
   ]
  },
  {
   "cell_type": "code",
   "execution_count": null,
   "metadata": {},
   "outputs": [],
   "source": [
    "for fragment in enumerate(new_audio):\n",
    "    fragment[1].export(\"data/audio2/audio2_{}.wav\".format(fragment[0] + 1), format=\"wav\")"
   ]
  },
  {
   "cell_type": "code",
   "execution_count": null,
   "metadata": {},
   "outputs": [],
   "source": [
    "labels_df = pd.read_csv('data/labels2.txt')[['timestamp', 'label']]\n",
    "labels_df['timestamp'] = labels_df['timestamp'].apply(lambda x: datetime.datetime.strptime(x, \"%H:%M:%S\"))\n",
    "labels_df = labels_df.set_index('timestamp')\n",
    "labels_df = labels_df.resample('1S').pad()\n",
    "labels_df['seconds'] = labels_df.index\n",
    "labels_df['seconds'] = labels_df['seconds'].apply(lambda x: int((x - datetime.datetime(1900, 1, 1)).total_seconds()))\n",
    "labels_df.to_csv(REPO_DIR + '/data/labels2_long.csv', index=False)"
   ]
  },
  {
   "cell_type": "code",
   "execution_count": null,
   "metadata": {},
   "outputs": [],
   "source": [
    "rows = []\n",
    "for second in tqdm(labels_df['seconds']):\n",
    "    y, sr = librosa.load(REPO_DIR + \"data/audio2/audio2_{}.wav\".format(second))\n",
    "    label = labels_df[labels_df['seconds'] == second]['label'][0]\n",
    "    chroma_stft = np.mean(librosa.feature.chroma_stft(y=y, sr=sr))\n",
    "    rmse = np.mean(librosa.feature.rms(y=y))\n",
    "    spec_cent = np.mean(librosa.feature.spectral_centroid(y=y, sr=sr))\n",
    "    spec_bw = np.mean(librosa.feature.spectral_bandwidth(y=y, sr=sr))\n",
    "    rolloff = np.mean(librosa.feature.spectral_rolloff(y=y, sr=sr))\n",
    "    zcr = np.mean(librosa.feature.zero_crossing_rate(y))\n",
    "    mfcc = librosa.feature.mfcc(y=y, sr=sr)\n",
    "    mfccs = []\n",
    "    for e in mfcc:\n",
    "        mfccs.append(np.mean(e))\n",
    "    obs = [second, label, rmse, chroma_stft, spec_cent, spec_bw, rolloff, zcr]\n",
    "    obs.extend(mfccs)\n",
    "    rows.append(obs)"
   ]
  },
  {
   "cell_type": "code",
   "execution_count": null,
   "metadata": {},
   "outputs": [],
   "source": [
    "columns = ['timestamp', 'label', 'chroma_stft', 'rmse', 'spec_cent', 'spec_bw', 'rolloff', 'zcr']\n",
    "columns.extend(['mfcc_{}'.format(i) for i in range(len(mfcc))])\n",
    "data = pd.DataFrame(rows, columns = columns)\n",
    "data.head()\n",
    "data.to_csv(REPO_DIR + \"/data/data_2.csv\")"
   ]
  },
  {
   "cell_type": "markdown",
   "metadata": {},
   "source": [
    "## Audio3"
   ]
  },
  {
   "cell_type": "code",
   "execution_count": null,
   "metadata": {},
   "outputs": [],
   "source": [
    "audio = pydub.AudioSegment.from_wav(REPO_DIR + \"data/audio3.wav\")"
   ]
  },
  {
   "cell_type": "code",
   "execution_count": null,
   "metadata": {},
   "outputs": [],
   "source": [
    "new_audio = [audio[i * SECOND : (i + 1) * SECOND] for i in range(len(audio)//SECOND)]"
   ]
  },
  {
   "cell_type": "code",
   "execution_count": null,
   "metadata": {},
   "outputs": [],
   "source": [
    "for fragment in enumerate(new_audio):\n",
    "    fragment[1].export(\"data/audio3/audio3_{}.wav\".format(fragment[0] + 1), format=\"wav\")"
   ]
  },
  {
   "cell_type": "code",
   "execution_count": null,
   "metadata": {},
   "outputs": [],
   "source": [
    "labels_df = pd.read_csv('data/labels3.txt')[['timestamp', 'label']]\n",
    "labels_df['timestamp'] = labels_df['timestamp'].apply(lambda x: datetime.datetime.strptime(x, \"%H:%M:%S\"))\n",
    "labels_df = labels_df.set_index('timestamp')\n",
    "labels_df = labels_df.resample('1S').pad()\n",
    "labels_df['seconds'] = labels_df.index\n",
    "labels_df['seconds'] = labels_df['seconds'].apply(lambda x: int((x - datetime.datetime(1900, 1, 1)).total_seconds()))\n",
    "labels_df.to_csv(REPO_DIR + '/data/labels3_long.csv', index=False)"
   ]
  },
  {
   "cell_type": "code",
   "execution_count": null,
   "metadata": {},
   "outputs": [],
   "source": [
    "rows = []\n",
    "for second in tqdm(labels_df['seconds']):\n",
    "    y, sr = librosa.load(REPO_DIR + \"data/audio3/audio3_{}.wav\".format(second))\n",
    "    label = labels_df[labels_df['seconds'] == second]['label'][0]\n",
    "    chroma_stft = np.mean(librosa.feature.chroma_stft(y=y, sr=sr))\n",
    "    rmse = np.mean(librosa.feature.rms(y=y))\n",
    "    spec_cent = np.mean(librosa.feature.spectral_centroid(y=y, sr=sr))\n",
    "    spec_bw = np.mean(librosa.feature.spectral_bandwidth(y=y, sr=sr))\n",
    "    rolloff = np.mean(librosa.feature.spectral_rolloff(y=y, sr=sr))\n",
    "    zcr = np.mean(librosa.feature.zero_crossing_rate(y))\n",
    "    mfcc = librosa.feature.mfcc(y=y, sr=sr)\n",
    "    mfccs = []\n",
    "    for e in mfcc:\n",
    "        mfccs.append(np.mean(e))\n",
    "    obs = [second, label, rmse, chroma_stft, spec_cent, spec_bw, rolloff, zcr]\n",
    "    obs.extend(mfccs)\n",
    "    rows.append(obs)"
   ]
  },
  {
   "cell_type": "code",
   "execution_count": null,
   "metadata": {},
   "outputs": [],
   "source": [
    "columns = ['timestamp', 'label', 'chroma_stft', 'rmse', 'spec_cent', 'spec_bw', 'rolloff', 'zcr']\n",
    "columns.extend(['mfcc_{}'.format(i) for i in range(len(mfcc))])\n",
    "data = pd.DataFrame(rows, columns = columns)\n",
    "data.head()\n",
    "data.to_csv(REPO_DIR + \"/data/data_3.csv\")"
   ]
  },
  {
   "cell_type": "markdown",
   "metadata": {},
   "source": [
    "# Class Spectograms"
   ]
  },
  {
   "cell_type": "code",
   "execution_count": 116,
   "metadata": {},
   "outputs": [],
   "source": [
    "with open('../data/dataset/dataset1000-0.pickle', 'rb') as f:\n",
    "    dataset = pickle.load(f)"
   ]
  },
  {
   "cell_type": "code",
   "execution_count": 117,
   "metadata": {},
   "outputs": [
    {
     "name": "stdout",
     "output_type": "stream",
     "text": [
      "pc\n"
     ]
    },
    {
     "data": {
      "text/plain": [
       "<matplotlib.colorbar.Colorbar at 0x7f7dc029ed10>"
      ]
     },
     "execution_count": 117,
     "metadata": {},
     "output_type": "execute_result"
    },
    {
     "data": {
      "image/png": "[encoded data removed]",
      "text/plain": [
       "<Figure size 432x288 with 2 Axes>"
      ]
     },
     "metadata": {
      "needs_background": "light"
     },
     "output_type": "display_data"
    }
   ],
   "source": [
    "k = 3\n",
    "exampleSpectrogram = dataset[0][k]\n",
    "exampleLabel = dataset[1][k]\n",
    "print(exampleLabel)\n",
    "fig, ax = plt.subplots()\n",
    "img = librosa.display.specshow(librosa.amplitude_to_db(exampleSpectrogram,\n",
    "                                                       ref=np.max),\n",
    "                               y_axis='log', x_axis='time', ax=ax)\n",
    "ax.set_title('Power spectrogram')\n",
    "fig.colorbar(img, ax=ax, format=\"%+2.0f dB\")"
   ]
  },
  {
   "cell_type": "code",
   "execution_count": 118,
   "metadata": {},
   "outputs": [
    {
     "name": "stdout",
     "output_type": "stream",
     "text": [
      "m\n"
     ]
    },
    {
     "data": {
      "text/plain": [
       "<matplotlib.colorbar.Colorbar at 0x7f7dc02e3090>"
      ]
     },
     "execution_count": 118,
     "metadata": {},
     "output_type": "execute_result"
    },
    {
     "data": {
      "image/png": "[encoded data removed]",
      "text/plain": [
       "<Figure size 432x288 with 2 Axes>"
      ]
     },
     "metadata": {
      "needs_background": "light"
     },
     "output_type": "display_data"
    }
   ],
   "source": [
    "k = 13\n",
    "exampleSpectrogram = dataset[0][k]\n",
    "exampleLabel = dataset[1][k]\n",
    "print(exampleLabel)\n",
    "fig, ax = plt.subplots()\n",
    "img = librosa.display.specshow(librosa.amplitude_to_db(exampleSpectrogram,\n",
    "                                                       ref=np.max),\n",
    "                               y_axis='log', x_axis='time', ax=ax)\n",
    "ax.set_title('Power spectrogram')\n",
    "fig.colorbar(img, ax=ax, format=\"%+2.0f dB\")"
   ]
  },
  {
   "cell_type": "code",
   "execution_count": 119,
   "metadata": {},
   "outputs": [
    {
     "name": "stdout",
     "output_type": "stream",
     "text": [
      "s\n"
     ]
    },
    {
     "data": {
      "text/plain": [
       "<matplotlib.colorbar.Colorbar at 0x7f7dc216ab50>"
      ]
     },
     "execution_count": 119,
     "metadata": {},
     "output_type": "execute_result"
    },
    {
     "data": {
      "image/png": "[encoded data removed]",
      "text/plain": [
       "<Figure size 432x288 with 2 Axes>"
      ]
     },
     "metadata": {
      "needs_background": "light"
     },
     "output_type": "display_data"
    }
   ],
   "source": [
    "k = 7\n",
    "exampleSpectrogram = dataset[0][k]\n",
    "exampleLabel = dataset[1][k]\n",
    "print(exampleLabel)\n",
    "fig, ax = plt.subplots()\n",
    "img = librosa.display.specshow(librosa.amplitude_to_db(exampleSpectrogram,\n",
    "                                                       ref=np.max),\n",
    "                               y_axis='log', x_axis='time', ax=ax)\n",
    "ax.set_title('Power spectrogram')\n",
    "fig.colorbar(img, ax=ax, format=\"%+2.0f dB\")"
   ]
  },
  {
   "cell_type": "code",
   "execution_count": 120,
   "metadata": {},
   "outputs": [
    {
     "name": "stdout",
     "output_type": "stream",
     "text": [
      "sm\n"
     ]
    },
    {
     "data": {
      "text/plain": [
       "<matplotlib.colorbar.Colorbar at 0x7f7dc2142090>"
      ]
     },
     "execution_count": 120,
     "metadata": {},
     "output_type": "execute_result"
    },
    {
     "data": {
      "image/png": "[encoded data removed]",
      "text/plain": [
       "<Figure size 432x288 with 2 Axes>"
      ]
     },
     "metadata": {
      "needs_background": "light"
     },
     "output_type": "display_data"
    }
   ],
   "source": [
    "k = 1\n",
    "exampleSpectrogram = dataset[0][k]\n",
    "exampleLabel = dataset[1][k]\n",
    "print(exampleLabel)\n",
    "fig, ax = plt.subplots()\n",
    "img = librosa.display.specshow(librosa.amplitude_to_db(exampleSpectrogram,\n",
    "                                                       ref=np.max),\n",
    "                               y_axis='log', x_axis='time', ax=ax)\n",
    "ax.set_title('Power spectrogram')\n",
    "fig.colorbar(img, ax=ax, format=\"%+2.0f dB\")"
   ]
  },
  {
   "cell_type": "markdown",
   "metadata": {},
   "source": [
    "# Learning & Evaluation - Supervised - Preprocessing 1"
   ]
  },
  {
   "cell_type": "code",
   "execution_count": 135,
   "metadata": {},
   "outputs": [],
   "source": [
    "with open('../data/dataset/dataset1000-0.pickle', 'rb') as f:\n",
    "    dataset_1 = pickle.load(f)\n",
    "    \n",
    "with open('../data/dataset/dataset1000-1.pickle', 'rb') as f:\n",
    "    dataset_2 = pickle.load(f)\n",
    "\n",
    "with open('../data/dataset/dataset1000-2.pickle', 'rb') as f:\n",
    "    dataset_3 = pickle.load(f)"
   ]
  },
  {
   "cell_type": "code",
   "execution_count": 133,
   "metadata": {},
   "outputs": [],
   "source": [
    "def transformLabels(dataset):\n",
    "    labels = []\n",
    "    for label in dataset[1]:\n",
    "        if label=='pc' or label=='sm':\n",
    "            labels.append('s')\n",
    "        elif label=='j':\n",
    "            labels.append('m')\n",
    "        else:\n",
    "            labels.append(label)\n",
    "\n",
    "    return labels"
   ]
  },
  {
   "cell_type": "code",
   "execution_count": 137,
   "metadata": {},
   "outputs": [],
   "source": [
    "labels = []\n",
    "labels.extend(transformLabels(dataset_1))\n",
    "labels.extend(transformLabels(dataset_2))\n",
    "labels.extend(transformLabels(dataset_3))"
   ]
  },
  {
   "cell_type": "code",
   "execution_count": 139,
   "metadata": {},
   "outputs": [],
   "source": [
    "data = []\n",
    "data.extend(dataset_1[0])\n",
    "data.extend(dataset_2[0])\n",
    "data.extend(dataset_3[0])"
   ]
  },
  {
   "cell_type": "code",
   "execution_count": 143,
   "metadata": {},
   "outputs": [],
   "source": [
    "trainX, testX, trainY, testY = train_test_split(np.array(data), np.array(labels), test_size = 0.2, random_state=42, stratify=labels)"
   ]
  },
  {
   "cell_type": "markdown",
   "metadata": {},
   "source": [
    "## K-nearest neighbor"
   ]
  },
  {
   "cell_type": "code",
   "execution_count": null,
   "metadata": {},
   "outputs": [],
   "source": [
    "ks = np.arange(2,3,4)\n",
    "\n",
    "results = []\n",
    "\n",
    "for k in tqdm(ks):\n",
    "    knnClf = KNeighborsClassifier(n_neighbors=k)\n",
    "    knnClf.fit(trainX.astype('float32').reshape(-1, 1025*22), trainY)\n",
    "    trainPreds = knnClf.predict(trainX.astype('float32').reshape(-1, 1025*22))\n",
    "    testPreds = knnClf.predict(testX.astype('float32').reshape(-1, 1025*22))\n",
    "    \n",
    "    results.append({'ks': k, 'set': 'train', 'score': accuracy_score(y_true=trainY, y_pred=trainPreds)})\n",
    "    results.append({'ks': k, 'set': 'test', 'score': accuracy_score(y_true=testY, y_pred=testPreds)})\n",
    "    \n",
    "results = pd.DataFrame(results)"
   ]
  },
  {
   "cell_type": "code",
   "execution_count": null,
   "metadata": {},
   "outputs": [],
   "source": [
    "sns.catplot(x = 'depth', y = 'score', hue='set', data=results, kind = 'bar', aspect=2.5)"
   ]
  },
  {
   "cell_type": "code",
   "execution_count": null,
   "metadata": {},
   "outputs": [],
   "source": [
    "best_k = ks[np.argsort(results.loc[(results['set'] == 'test')]['score'])[::-1]][0]\n",
    "print('Best depth: {} with Test Accuracy = {:.4f}'.format(best_depth, \n",
    "                                                      np.array(results.loc[(results['set'] == 'test') & \n",
    "                                                                  (results['ks'] == best_depth)]['score'])[0]))\n",
    "knnClf = KNeighborsClassifier(n_neighbors=best_k)\n",
    "knnClf.fit(trainX.astype('float32'), trainY)"
   ]
  },
  {
   "cell_type": "markdown",
   "metadata": {},
   "source": [
    "## RandomForestClassifier"
   ]
  },
  {
   "cell_type": "code",
   "execution_count": null,
   "metadata": {},
   "outputs": [],
   "source": [
    "depths = np.arange(5,51,5)\n",
    "results = []\n",
    "    \n",
    "for depth in tqdm(depths): \n",
    "    rfClf = RandomForestClassifier(max_depth=depth, random_state=0)\n",
    "    rfClf.fit(trainX, trainY)\n",
    "    trainPreds = rfClf.predict(trainX)\n",
    "    testPreds = rfClf.predict(testX)\n",
    "\n",
    "    results.append({'depth': depth, 'set': 'train', 'score': accuracy_score(y_true=trainY, y_pred=trainPreds)})\n",
    "    results.append({'depth': depth, 'set': 'test', 'score': accuracy_score(y_true=testY, y_pred=testPreds)})\n",
    "    \n",
    "results = pd.DataFrame(results)"
   ]
  },
  {
   "cell_type": "code",
   "execution_count": null,
   "metadata": {},
   "outputs": [],
   "source": [
    "sns.catplot(x = 'depth', y = 'score', hue='set', data=results, kind = 'bar', aspect=2.5)"
   ]
  },
  {
   "cell_type": "code",
   "execution_count": null,
   "metadata": {},
   "outputs": [],
   "source": [
    "best_depth = depths[np.argsort(results.loc[(results['set'] == 'test')]['score'])[::-1]][0]\n",
    "print('Best depth: {} with Test Accuracy = {:.4f}'.format(best_depth, \n",
    "                                                      np.array(results.loc[(results['set'] == 'test') & \n",
    "                                                                  (results['depth'] == best_depth)]['score'])[0]))\n",
    "rfClf = RandomForestClassifier(max_depth=best_depth, random_state=0)\n",
    "rfClf.fit(trainX, trainY)"
   ]
  },
  {
   "cell_type": "markdown",
   "metadata": {},
   "source": [
    "## Smoothing with HMM"
   ]
  },
  {
   "cell_type": "code",
   "execution_count": null,
   "metadata": {},
   "outputs": [],
   "source": [
    "with open('../data/dataset/HMM-dataset-train.pickle', 'rb') as f:\n",
    "    train_dataset = pickle.load(f)\n",
    "    \n",
    "with open('../data/dataset/HMM-dataset-test.pickle', 'rb') as f:\n",
    "    test_dataset = pickle.load(f)"
   ]
  },
  {
   "cell_type": "code",
   "execution_count": null,
   "metadata": {},
   "outputs": [],
   "source": [
    "train_X = np.concatenate([np.stack(train_dataset[0]).reshape(-1, 1025*22)])\n",
    "\n",
    "train_y = np.concatenate([np.stack(train_dataset[1])])\n",
    "\n",
    "test_X = np.stack(test_dataset[0]).reshape(-1, 1025*22)\n",
    "test_y = np.stack(test_dataset[1])\n",
    "\n",
    "del train_dataset\n",
    "del test_dataset"
   ]
  },
  {
   "cell_type": "code",
   "execution_count": null,
   "metadata": {},
   "outputs": [],
   "source": [
    "class smoothHMM:\n",
    "\n",
    "    def __init__(self, predictor, state_names):\n",
    "\n",
    "        self.predictor = predictor\n",
    "        self.modelHMM = HiddenMarkovModel()\n",
    "        self.le=LabelEncoder()\n",
    "        self.state_names = state_names\n",
    "\n",
    "    def fit(self, X, y):\n",
    "        \n",
    "        X_prediction=self.predictor.predict(X)\n",
    "        for i in range(len(X_prediction)):\n",
    "            if X_prediction[i]=='pc' or X_prediction[i]=='sm':\n",
    "                X_prediction[i]='s'\n",
    "        X_simplified = self.le.fit_transform(X_prediction).reshape(1, -1)\n",
    "        \n",
    "        print(np.unique(X_simplified))\n",
    "        for i in range(len(y)):\n",
    "            if y[i]=='pc' or y[i]=='sm':\n",
    "                y[i]='s'\n",
    "            if y[i]=='j':\n",
    "                y[i]='m'\n",
    "                \n",
    "        y = y.reshape(1, -1)\n",
    "\n",
    "        \n",
    "        print(np.unique(y))\n",
    "        \n",
    "        self.modelHMM = self.modelHMM.from_samples(DiscreteDistribution, 2, X_simplified, labels = y,\n",
    "                                   algorithm='labeled', state_names=['m','s'], verbose = True)\n",
    "        self.modelHMM.bake()\n",
    "           \n",
    "\n",
    "    def predict(self, X):\n",
    "        X_prediction=self.predictor.predict(X)\n",
    "        for i in range(len(X_prediction)):\n",
    "            if X_prediction[i]=='pc' or X_prediction[i]=='sm':\n",
    "                X_prediction[i]='s'\n",
    "        X_simplified = self.le.transform(X_prediction).tolist()\n",
    "        \n",
    "        return self.modelHMM.predict(X_simplified)\n",
    "    \n",
    "    def score(self, X, y):\n",
    "        \n",
    "        target = self.predict(X)\n",
    "        \n",
    "        for i in range(len(y)):\n",
    "            if y[i]=='pc' or y[i]=='sm':\n",
    "                y[i]='s'\n",
    "            if y[i]=='j':\n",
    "                y[i]='m'\n",
    "                \n",
    "        y = self.le.transform(y)\n",
    "        \n",
    "        return np.sum(target==y)/y.shape[0]"
   ]
  },
  {
   "cell_type": "code",
   "execution_count": null,
   "metadata": {},
   "outputs": [],
   "source": [
    "hmm = smoothHMM(rfClf, state_names=['m', 'pc', 's', 'sm'])\n",
    "hmm.fit(train_X, train_y)"
   ]
  },
  {
   "cell_type": "code",
   "execution_count": null,
   "metadata": {},
   "outputs": [],
   "source": [
    "hmm.score(test_X, test_y)"
   ]
  },
  {
   "cell_type": "code",
   "execution_count": null,
   "metadata": {},
   "outputs": [],
   "source": [
    "hmm = smoothHMM(knnClf, state_names=['m', 'pc', 's', 'sm'])\n",
    "hmm.fit(train_X, train_y)"
   ]
  },
  {
   "cell_type": "code",
   "execution_count": null,
   "metadata": {},
   "outputs": [],
   "source": [
    "hmm.score(test_X, test_y)"
   ]
  },
  {
   "cell_type": "markdown",
   "metadata": {},
   "source": [
    "# Learning & Evaluation - Supervised - Preprocessing 2"
   ]
  },
  {
   "cell_type": "code",
   "execution_count": 65,
   "metadata": {},
   "outputs": [],
   "source": [
    "REPO_DIR = \"/mnt/c/Users/zobni/Programming/UWrMLPhttp://localhost:8888/notebooks/Notebooks/Raport.ipynb#Learning-&-Evaluation---Supervised---Preprocessing-2rojectAudioSeg/\"\n",
    "data = pd.concat([pd.read_csv(REPO_DIR + \"/data/data_{}.csv\".format(i), index_col=False) for i in [1,2,3]])\n",
    "data.drop('Unnamed: 0', axis=1, inplace=True)\n",
    "data.drop('timestamp', axis=1, inplace=True)"
   ]
  },
  {
   "cell_type": "code",
   "execution_count": 66,
   "metadata": {},
   "outputs": [
    {
     "data": {
      "text/html": [
       "<div>\n",
       "<style scoped>\n",
       "    .dataframe tbody tr th:only-of-type {\n",
       "        vertical-align: middle;\n",
       "    }\n",
       "\n",
       "    .dataframe tbody tr th {\n",
       "        vertical-align: top;\n",
       "    }\n",
       "\n",
       "    .dataframe thead th {\n",
       "        text-align: right;\n",
       "    }\n",
       "</style>\n",
       "<table border=\"1\" class=\"dataframe\">\n",
       "  <thead>\n",
       "    <tr style=\"text-align: right;\">\n",
       "      <th></th>\n",
       "      <th>label</th>\n",
       "      <th>chroma_stft</th>\n",
       "      <th>rmse</th>\n",
       "      <th>spec_cent</th>\n",
       "      <th>spec_bw</th>\n",
       "      <th>rolloff</th>\n",
       "      <th>zcr</th>\n",
       "      <th>mfcc_0</th>\n",
       "      <th>mfcc_1</th>\n",
       "      <th>mfcc_2</th>\n",
       "      <th>...</th>\n",
       "      <th>mfcc_10</th>\n",
       "      <th>mfcc_11</th>\n",
       "      <th>mfcc_12</th>\n",
       "      <th>mfcc_13</th>\n",
       "      <th>mfcc_14</th>\n",
       "      <th>mfcc_15</th>\n",
       "      <th>mfcc_16</th>\n",
       "      <th>mfcc_17</th>\n",
       "      <th>mfcc_18</th>\n",
       "      <th>mfcc_19</th>\n",
       "    </tr>\n",
       "  </thead>\n",
       "  <tbody>\n",
       "    <tr>\n",
       "      <th>0</th>\n",
       "      <td>music</td>\n",
       "      <td>0.000000</td>\n",
       "      <td>0.000000</td>\n",
       "      <td>0.000000</td>\n",
       "      <td>0.000000</td>\n",
       "      <td>0.000000</td>\n",
       "      <td>0.00000</td>\n",
       "      <td>-1131.370972</td>\n",
       "      <td>0.000000</td>\n",
       "      <td>0.000000</td>\n",
       "      <td>...</td>\n",
       "      <td>0.000000</td>\n",
       "      <td>0.000000</td>\n",
       "      <td>0.000000</td>\n",
       "      <td>0.000000</td>\n",
       "      <td>0.000000</td>\n",
       "      <td>0.000000</td>\n",
       "      <td>0.000000</td>\n",
       "      <td>0.000000</td>\n",
       "      <td>0.000000</td>\n",
       "      <td>0.000000</td>\n",
       "    </tr>\n",
       "    <tr>\n",
       "      <th>1</th>\n",
       "      <td>music</td>\n",
       "      <td>0.000000</td>\n",
       "      <td>0.000000</td>\n",
       "      <td>0.000000</td>\n",
       "      <td>0.000000</td>\n",
       "      <td>0.000000</td>\n",
       "      <td>0.00000</td>\n",
       "      <td>-1131.370972</td>\n",
       "      <td>0.000000</td>\n",
       "      <td>0.000000</td>\n",
       "      <td>...</td>\n",
       "      <td>0.000000</td>\n",
       "      <td>0.000000</td>\n",
       "      <td>0.000000</td>\n",
       "      <td>0.000000</td>\n",
       "      <td>0.000000</td>\n",
       "      <td>0.000000</td>\n",
       "      <td>0.000000</td>\n",
       "      <td>0.000000</td>\n",
       "      <td>0.000000</td>\n",
       "      <td>0.000000</td>\n",
       "    </tr>\n",
       "    <tr>\n",
       "      <th>2</th>\n",
       "      <td>music</td>\n",
       "      <td>0.000000</td>\n",
       "      <td>0.000000</td>\n",
       "      <td>0.000000</td>\n",
       "      <td>0.000000</td>\n",
       "      <td>0.000000</td>\n",
       "      <td>0.00000</td>\n",
       "      <td>-1131.370972</td>\n",
       "      <td>0.000000</td>\n",
       "      <td>0.000000</td>\n",
       "      <td>...</td>\n",
       "      <td>0.000000</td>\n",
       "      <td>0.000000</td>\n",
       "      <td>0.000000</td>\n",
       "      <td>0.000000</td>\n",
       "      <td>0.000000</td>\n",
       "      <td>0.000000</td>\n",
       "      <td>0.000000</td>\n",
       "      <td>0.000000</td>\n",
       "      <td>0.000000</td>\n",
       "      <td>0.000000</td>\n",
       "    </tr>\n",
       "    <tr>\n",
       "      <th>3</th>\n",
       "      <td>music</td>\n",
       "      <td>0.012444</td>\n",
       "      <td>0.081449</td>\n",
       "      <td>432.529692</td>\n",
       "      <td>424.989395</td>\n",
       "      <td>949.418501</td>\n",
       "      <td>0.01466</td>\n",
       "      <td>-632.946411</td>\n",
       "      <td>12.773681</td>\n",
       "      <td>-1.715082</td>\n",
       "      <td>...</td>\n",
       "      <td>-2.038454</td>\n",
       "      <td>-0.884550</td>\n",
       "      <td>-1.802255</td>\n",
       "      <td>0.243648</td>\n",
       "      <td>-0.727257</td>\n",
       "      <td>0.287844</td>\n",
       "      <td>0.141726</td>\n",
       "      <td>-0.364878</td>\n",
       "      <td>-0.763656</td>\n",
       "      <td>-0.566740</td>\n",
       "    </tr>\n",
       "    <tr>\n",
       "      <th>4</th>\n",
       "      <td>music</td>\n",
       "      <td>0.172535</td>\n",
       "      <td>0.435161</td>\n",
       "      <td>2309.434221</td>\n",
       "      <td>2392.904163</td>\n",
       "      <td>4963.403320</td>\n",
       "      <td>0.10235</td>\n",
       "      <td>-33.924923</td>\n",
       "      <td>96.108818</td>\n",
       "      <td>-15.746825</td>\n",
       "      <td>...</td>\n",
       "      <td>-10.182379</td>\n",
       "      <td>-11.484722</td>\n",
       "      <td>-13.531470</td>\n",
       "      <td>-5.707917</td>\n",
       "      <td>-9.890487</td>\n",
       "      <td>-1.513985</td>\n",
       "      <td>-8.121307</td>\n",
       "      <td>-4.673933</td>\n",
       "      <td>-4.060278</td>\n",
       "      <td>-2.206214</td>\n",
       "    </tr>\n",
       "  </tbody>\n",
       "</table>\n",
       "<p>5 rows × 27 columns</p>\n",
       "</div>"
      ],
      "text/plain": [
       "   label  chroma_stft      rmse    spec_cent      spec_bw      rolloff  \\\n",
       "0  music     0.000000  0.000000     0.000000     0.000000     0.000000   \n",
       "1  music     0.000000  0.000000     0.000000     0.000000     0.000000   \n",
       "2  music     0.000000  0.000000     0.000000     0.000000     0.000000   \n",
       "3  music     0.012444  0.081449   432.529692   424.989395   949.418501   \n",
       "4  music     0.172535  0.435161  2309.434221  2392.904163  4963.403320   \n",
       "\n",
       "       zcr       mfcc_0     mfcc_1     mfcc_2  ...    mfcc_10    mfcc_11  \\\n",
       "0  0.00000 -1131.370972   0.000000   0.000000  ...   0.000000   0.000000   \n",
       "1  0.00000 -1131.370972   0.000000   0.000000  ...   0.000000   0.000000   \n",
       "2  0.00000 -1131.370972   0.000000   0.000000  ...   0.000000   0.000000   \n",
       "3  0.01466  -632.946411  12.773681  -1.715082  ...  -2.038454  -0.884550   \n",
       "4  0.10235   -33.924923  96.108818 -15.746825  ... -10.182379 -11.484722   \n",
       "\n",
       "     mfcc_12   mfcc_13   mfcc_14   mfcc_15   mfcc_16   mfcc_17   mfcc_18  \\\n",
       "0   0.000000  0.000000  0.000000  0.000000  0.000000  0.000000  0.000000   \n",
       "1   0.000000  0.000000  0.000000  0.000000  0.000000  0.000000  0.000000   \n",
       "2   0.000000  0.000000  0.000000  0.000000  0.000000  0.000000  0.000000   \n",
       "3  -1.802255  0.243648 -0.727257  0.287844  0.141726 -0.364878 -0.763656   \n",
       "4 -13.531470 -5.707917 -9.890487 -1.513985 -8.121307 -4.673933 -4.060278   \n",
       "\n",
       "    mfcc_19  \n",
       "0  0.000000  \n",
       "1  0.000000  \n",
       "2  0.000000  \n",
       "3 -0.566740  \n",
       "4 -2.206214  \n",
       "\n",
       "[5 rows x 27 columns]"
      ]
     },
     "execution_count": 66,
     "metadata": {},
     "output_type": "execute_result"
    }
   ],
   "source": [
    "data.head()"
   ]
  },
  {
   "cell_type": "code",
   "execution_count": 67,
   "metadata": {},
   "outputs": [],
   "source": [
    "X = data.drop('label', axis=1)\n",
    "y = data['label']\n",
    "\n",
    "trainX, testX, trainY, testY = train_test_split(X, y, test_size = 0.3, random_state=42, stratify=y)"
   ]
  },
  {
   "cell_type": "markdown",
   "metadata": {},
   "source": [
    "## RandomForestClassifier"
   ]
  },
  {
   "cell_type": "code",
   "execution_count": 68,
   "metadata": {},
   "outputs": [
    {
     "data": {
      "application/vnd.jupyter.widget-view+json": {
       "model_id": "e52228010ac54af59547c703242a4a74",
       "version_major": 2,
       "version_minor": 0
      },
      "text/plain": [
       "HBox(children=(FloatProgress(value=0.0, max=10.0), HTML(value='')))"
      ]
     },
     "metadata": {},
     "output_type": "display_data"
    },
    {
     "name": "stdout",
     "output_type": "stream",
     "text": [
      "\n"
     ]
    }
   ],
   "source": [
    "depths = np.arange(5,51,5)\n",
    "results = []\n",
    "    \n",
    "for depth in tqdm(depths): \n",
    "    rfClf = RandomForestClassifier(max_depth=depth, random_state=0)\n",
    "    rfClf.fit(trainX, trainY)\n",
    "    trainPreds = rfClf.predict(trainX)\n",
    "    testPreds = rfClf.predict(testX)\n",
    "\n",
    "    results.append({'depth': depth, 'set': 'train', 'score': accuracy_score(y_true=trainY, y_pred=trainPreds)})\n",
    "    results.append({'depth': depth, 'set': 'test', 'score': accuracy_score(y_true=testY, y_pred=testPreds)})\n",
    "    \n",
    "results = pd.DataFrame(results)"
   ]
  },
  {
   "cell_type": "code",
   "execution_count": 69,
   "metadata": {},
   "outputs": [
    {
     "data": {
      "text/plain": [
       "<seaborn.axisgrid.FacetGrid at 0x7f7dc3967ed0>"
      ]
     },
     "execution_count": 69,
     "metadata": {},
     "output_type": "execute_result"
    },
    {
     "data": {
      "image/png": "[encoded data removed]",
      "text/plain": [
       "<Figure size 959.375x360 with 1 Axes>"
      ]
     },
     "metadata": {
      "needs_background": "light"
     },
     "output_type": "display_data"
    }
   ],
   "source": [
    "sns.catplot(x = 'depth', y = 'score', hue='set', data=results, kind = 'bar', aspect=2.5)"
   ]
  },
  {
   "cell_type": "code",
   "execution_count": 70,
   "metadata": {},
   "outputs": [
    {
     "name": "stdout",
     "output_type": "stream",
     "text": [
      "Best depth: 25 with Test Accuracy = 0.9697\n"
     ]
    },
    {
     "data": {
      "text/plain": [
       "RandomForestClassifier(bootstrap=True, ccp_alpha=0.0, class_weight=None,\n",
       "                       criterion='gini', max_depth=25, max_features='auto',\n",
       "                       max_leaf_nodes=None, max_samples=None,\n",
       "                       min_impurity_decrease=0.0, min_impurity_split=None,\n",
       "                       min_samples_leaf=1, min_samples_split=2,\n",
       "                       min_weight_fraction_leaf=0.0, n_estimators=100,\n",
       "                       n_jobs=None, oob_score=False, random_state=0, verbose=0,\n",
       "                       warm_start=False)"
      ]
     },
     "execution_count": 70,
     "metadata": {},
     "output_type": "execute_result"
    }
   ],
   "source": [
    "best_depth = depths[np.argsort(results.loc[(results['set'] == 'test')]['score'])[::-1]][0]\n",
    "print('Best depth: {} with Test Accuracy = {:.4f}'.format(best_depth, \n",
    "                                                      np.array(results.loc[(results['set'] == 'test') & \n",
    "                                                                  (results['depth'] == best_depth)]['score'])[0]))\n",
    "rfClf = RandomForestClassifier(max_depth=best_depth, random_state=0)\n",
    "rfClf.fit(trainX, trainY)"
   ]
  },
  {
   "cell_type": "markdown",
   "metadata": {},
   "source": [
    "## K nearest neighbor"
   ]
  },
  {
   "cell_type": "code",
   "execution_count": 71,
   "metadata": {},
   "outputs": [
    {
     "data": {
      "application/vnd.jupyter.widget-view+json": {
       "model_id": "6f710430a04c4faebb57e2b9d0d6f358",
       "version_major": 2,
       "version_minor": 0
      },
      "text/plain": [
       "HBox(children=(FloatProgress(value=0.0, max=13.0), HTML(value='')))"
      ]
     },
     "metadata": {},
     "output_type": "display_data"
    },
    {
     "name": "stdout",
     "output_type": "stream",
     "text": [
      "\n"
     ]
    }
   ],
   "source": [
    "ks = np.arange(1,51,4)\n",
    "results = []\n",
    "\n",
    "for k in tqdm(ks):\n",
    "    knnClf = KNeighborsClassifier(n_neighbors=k)\n",
    "    knnClf.fit(trainX.astype('float32'), trainY)\n",
    "    trainPreds = knnClf.predict(trainX.astype('float32'))\n",
    "    testPreds = knnClf.predict(testX.astype('float32'))\n",
    "\n",
    "    results.append({'ks': k, 'set': 'train', 'score': accuracy_score(y_true=trainY, y_pred=trainPreds)})\n",
    "    results.append({'ks': k, 'set': 'test', 'score': accuracy_score(y_true=testY, y_pred=testPreds)})\n",
    "    \n",
    "results = pd.DataFrame(results)"
   ]
  },
  {
   "cell_type": "code",
   "execution_count": 72,
   "metadata": {},
   "outputs": [
    {
     "data": {
      "text/plain": [
       "<seaborn.axisgrid.FacetGrid at 0x7f7dc232b0d0>"
      ]
     },
     "execution_count": 72,
     "metadata": {},
     "output_type": "execute_result"
    },
    {
     "data": {
      "image/png": "[encoded data removed]",
      "text/plain": [
       "<Figure size 959.375x360 with 1 Axes>"
      ]
     },
     "metadata": {
      "needs_background": "light"
     },
     "output_type": "display_data"
    }
   ],
   "source": [
    "sns.catplot(x = 'ks', y = 'score', hue='set', data=results, kind = 'bar', aspect=2.5)"
   ]
  },
  {
   "cell_type": "code",
   "execution_count": 73,
   "metadata": {},
   "outputs": [
    {
     "name": "stdout",
     "output_type": "stream",
     "text": [
      "Best depth: 25 with Test Accuracy = 0.9291\n"
     ]
    },
    {
     "data": {
      "text/plain": [
       "KNeighborsClassifier(algorithm='auto', leaf_size=30, metric='minkowski',\n",
       "                     metric_params=None, n_jobs=None, n_neighbors=9, p=2,\n",
       "                     weights='uniform')"
      ]
     },
     "execution_count": 73,
     "metadata": {},
     "output_type": "execute_result"
    }
   ],
   "source": [
    "best_k = ks[np.argsort(results.loc[(results['set'] == 'test')]['score'])[::-1]][0]\n",
    "print('Best depth: {} with Test Accuracy = {:.4f}'.format(best_depth, \n",
    "                                                      np.array(results.loc[(results['set'] == 'test') & \n",
    "                                                                  (results['ks'] == best_depth)]['score'])[0]))\n",
    "knnClf = KNeighborsClassifier(n_neighbors=best_k)\n",
    "knnClf.fit(trainX.astype('float32'), trainY)"
   ]
  },
  {
   "cell_type": "markdown",
   "metadata": {},
   "source": [
    "## Smoothing with HMM"
   ]
  },
  {
   "cell_type": "code",
   "execution_count": 74,
   "metadata": {},
   "outputs": [],
   "source": [
    "dataHTrain = pd.concat([pd.read_csv(REPO_DIR + \"/data/data_{}.csv\".format(i), index_col=False) for i in [1,3]])\n",
    "dataHTrain.drop('Unnamed: 0', axis=1, inplace=True)\n",
    "dataHTrain.drop('timestamp', axis=1, inplace=True)\n",
    "dataHTest = pd.concat([pd.read_csv(REPO_DIR + \"/data/data_{}.csv\".format(i), index_col=False) for i in [2]])\n",
    "dataHTest.drop('Unnamed: 0', axis=1, inplace=True)\n",
    "dataHTest.drop('timestamp', axis=1, inplace=True)"
   ]
  },
  {
   "cell_type": "code",
   "execution_count": 75,
   "metadata": {},
   "outputs": [],
   "source": [
    "trainHX = dataHTrain.drop('label', axis=1)\n",
    "trainHY = dataHTrain['label']\n",
    "\n",
    "testHX = dataHTest.drop('label', axis=1)\n",
    "testHY = dataHTest['label']"
   ]
  },
  {
   "cell_type": "code",
   "execution_count": 76,
   "metadata": {},
   "outputs": [],
   "source": [
    "class smoothHMM:\n",
    "\n",
    "    def __init__(self, predictor, state_names):\n",
    "\n",
    "        self.predictor = predictor\n",
    "        self.modelHMM = HiddenMarkovModel()\n",
    "        self.le=LabelEncoder()\n",
    "        self.state_names = state_names\n",
    "\n",
    "    def fit(self, X, y):\n",
    "        \n",
    "        X_simplified = self.le.fit_transform(self.predictor.predict(X)).reshape(1, -1)\n",
    "        \n",
    "        y = y.to_numpy().reshape(1, -1)\n",
    "\n",
    "        self.modelHMM = self.modelHMM.from_samples(DiscreteDistribution, len(self.state_names), X_simplified, labels = y,\n",
    "                                   algorithm='labeled', state_names=self.state_names , verbose = True)\n",
    "        self.modelHMM.bake()\n",
    "           \n",
    "\n",
    "    def predict(self, X):\n",
    "\n",
    "        X_simplified = self.le.transform(self.predictor.predict(X)).tolist()\n",
    "        \n",
    "        return self.modelHMM.predict(X_simplified)\n",
    "    \n",
    "    def score(self, X, y):\n",
    "        \n",
    "        target = self.predict(X)\n",
    "        \n",
    "        y = self.le.transform(y.to_numpy())\n",
    "        \n",
    "        return np.sum(target==y)/y.shape[0]"
   ]
  },
  {
   "cell_type": "markdown",
   "metadata": {},
   "source": [
    "### KNN SMOOTHING"
   ]
  },
  {
   "cell_type": "code",
   "execution_count": 82,
   "metadata": {},
   "outputs": [
    {
     "name": "stdout",
     "output_type": "stream",
     "text": [
      "[1] Improvement: 10167.535833673714\tTime (s): 0.01637\n",
      "[2] Improvement: 0.0\tTime (s): 0.01692\n",
      "Total Training Improvement: 10167.535833673714\n",
      "Total Training Time (s): 0.0502\n",
      "KNN ACCURACY AFTER SMOOTHING = 0.9423785947540293\n"
     ]
    }
   ],
   "source": [
    "hmm = smoothHMM(knnClf, state_names=['music', 'speech'])\n",
    "hmm.fit(trainHX, trainHY)\n",
    "print('KNN ACCURACY AFTER SMOOTHING = {}'.format(hmm.score(testHX, testHY)))"
   ]
  },
  {
   "cell_type": "code",
   "execution_count": 84,
   "metadata": {},
   "outputs": [
    {
     "data": {
      "text/plain": [
       "[{\n",
       "     \"class\" : \"State\",\n",
       "     \"distribution\" : {\n",
       "         \"class\" : \"Distribution\",\n",
       "         \"dtype\" : \"numpy.int64\",\n",
       "         \"name\" : \"DiscreteDistribution\",\n",
       "         \"parameters\" : [\n",
       "             {\n",
       "                 \"0\" : 0.9885433715220949,\n",
       "                 \"1\" : 0.011456628477905073\n",
       "             }\n",
       "         ],\n",
       "         \"frozen\" : false\n",
       "     },\n",
       "     \"name\" : \"music\",\n",
       "     \"weight\" : 1.0\n",
       " },\n",
       " {\n",
       "     \"class\" : \"State\",\n",
       "     \"distribution\" : {\n",
       "         \"class\" : \"Distribution\",\n",
       "         \"dtype\" : \"numpy.int64\",\n",
       "         \"name\" : \"DiscreteDistribution\",\n",
       "         \"parameters\" : [\n",
       "             {\n",
       "                 \"0\" : 0.01550180408926901,\n",
       "                 \"1\" : 0.984498195910731\n",
       "             }\n",
       "         ],\n",
       "         \"frozen\" : false\n",
       "     },\n",
       "     \"name\" : \"speech\",\n",
       "     \"weight\" : 1.0\n",
       " },\n",
       " {\n",
       "     \"class\" : \"State\",\n",
       "     \"distribution\" : null,\n",
       "     \"name\" : \"None-start\",\n",
       "     \"weight\" : 1.0\n",
       " },\n",
       " {\n",
       "     \"class\" : \"State\",\n",
       "     \"distribution\" : null,\n",
       "     \"name\" : \"None-end\",\n",
       "     \"weight\" : 1.0\n",
       " }]"
      ]
     },
     "execution_count": 84,
     "metadata": {},
     "output_type": "execute_result"
    }
   ],
   "source": [
    "hmm.modelHMM.states"
   ]
  },
  {
   "cell_type": "markdown",
   "metadata": {},
   "source": [
    "### KNN SMOOTHING"
   ]
  },
  {
   "cell_type": "code",
   "execution_count": 83,
   "metadata": {},
   "outputs": [
    {
     "name": "stdout",
     "output_type": "stream",
     "text": [
      "[1] Improvement: 12685.21459407028\tTime (s): 0.01648\n",
      "[2] Improvement: 0.0\tTime (s): 0.0164\n",
      "Total Training Improvement: 12685.21459407028\n",
      "Total Training Time (s): 0.0498\n",
      "rfClf ACCURACY AFTER SMOOTHING = 0.9958917096808174\n"
     ]
    }
   ],
   "source": [
    "hmm = smoothHMM(rfClf, state_names=['music', 'speech'])\n",
    "hmm.fit(trainHX, trainHY)\n",
    "hmm.score(testHX, testHY)\n",
    "print('rfClf ACCURACY AFTER SMOOTHING = {}'.format(hmm.score(testHX, testHY)))"
   ]
  },
  {
   "cell_type": "code",
   "execution_count": 85,
   "metadata": {},
   "outputs": [
    {
     "data": {
      "text/plain": [
       "[{\n",
       "     \"class\" : \"State\",\n",
       "     \"distribution\" : {\n",
       "         \"class\" : \"Distribution\",\n",
       "         \"dtype\" : \"numpy.int64\",\n",
       "         \"name\" : \"DiscreteDistribution\",\n",
       "         \"parameters\" : [\n",
       "             {\n",
       "                 \"0\" : 0.9885433715220949,\n",
       "                 \"1\" : 0.011456628477905073\n",
       "             }\n",
       "         ],\n",
       "         \"frozen\" : false\n",
       "     },\n",
       "     \"name\" : \"music\",\n",
       "     \"weight\" : 1.0\n",
       " },\n",
       " {\n",
       "     \"class\" : \"State\",\n",
       "     \"distribution\" : {\n",
       "         \"class\" : \"Distribution\",\n",
       "         \"dtype\" : \"numpy.int64\",\n",
       "         \"name\" : \"DiscreteDistribution\",\n",
       "         \"parameters\" : [\n",
       "             {\n",
       "                 \"0\" : 0.01550180408926901,\n",
       "                 \"1\" : 0.984498195910731\n",
       "             }\n",
       "         ],\n",
       "         \"frozen\" : false\n",
       "     },\n",
       "     \"name\" : \"speech\",\n",
       "     \"weight\" : 1.0\n",
       " },\n",
       " {\n",
       "     \"class\" : \"State\",\n",
       "     \"distribution\" : null,\n",
       "     \"name\" : \"None-start\",\n",
       "     \"weight\" : 1.0\n",
       " },\n",
       " {\n",
       "     \"class\" : \"State\",\n",
       "     \"distribution\" : null,\n",
       "     \"name\" : \"None-end\",\n",
       "     \"weight\" : 1.0\n",
       " }]"
      ]
     },
     "execution_count": 85,
     "metadata": {},
     "output_type": "execute_result"
    }
   ],
   "source": [
    "hmm.modelHMM.states"
   ]
  },
  {
   "cell_type": "markdown",
   "metadata": {},
   "source": [
    "# Learning & Evaluation - Unsupervised - Preprocessing 2"
   ]
  },
  {
   "cell_type": "code",
   "execution_count": 87,
   "metadata": {},
   "outputs": [],
   "source": [
    "REPO_DIR = \"/mnt/c/Users/zobni/Programming/UWrMLProjectAudioSeg/\""
   ]
  },
  {
   "cell_type": "code",
   "execution_count": 88,
   "metadata": {},
   "outputs": [],
   "source": [
    "data = pd.concat([pd.read_csv(REPO_DIR + \"/data/data_{}.csv\".format(i), index_col=False) for i in [1,2,3]])\n",
    "data.drop('Unnamed: 0', axis=1, inplace=True)\n",
    "data.drop('timestamp', axis=1, inplace=True)"
   ]
  },
  {
   "cell_type": "code",
   "execution_count": 89,
   "metadata": {},
   "outputs": [
    {
     "data": {
      "text/html": [
       "<div>\n",
       "<style scoped>\n",
       "    .dataframe tbody tr th:only-of-type {\n",
       "        vertical-align: middle;\n",
       "    }\n",
       "\n",
       "    .dataframe tbody tr th {\n",
       "        vertical-align: top;\n",
       "    }\n",
       "\n",
       "    .dataframe thead th {\n",
       "        text-align: right;\n",
       "    }\n",
       "</style>\n",
       "<table border=\"1\" class=\"dataframe\">\n",
       "  <thead>\n",
       "    <tr style=\"text-align: right;\">\n",
       "      <th></th>\n",
       "      <th>label</th>\n",
       "      <th>chroma_stft</th>\n",
       "      <th>rmse</th>\n",
       "      <th>spec_cent</th>\n",
       "      <th>spec_bw</th>\n",
       "      <th>rolloff</th>\n",
       "      <th>zcr</th>\n",
       "      <th>mfcc_0</th>\n",
       "      <th>mfcc_1</th>\n",
       "      <th>mfcc_2</th>\n",
       "      <th>...</th>\n",
       "      <th>mfcc_10</th>\n",
       "      <th>mfcc_11</th>\n",
       "      <th>mfcc_12</th>\n",
       "      <th>mfcc_13</th>\n",
       "      <th>mfcc_14</th>\n",
       "      <th>mfcc_15</th>\n",
       "      <th>mfcc_16</th>\n",
       "      <th>mfcc_17</th>\n",
       "      <th>mfcc_18</th>\n",
       "      <th>mfcc_19</th>\n",
       "    </tr>\n",
       "  </thead>\n",
       "  <tbody>\n",
       "    <tr>\n",
       "      <th>0</th>\n",
       "      <td>music</td>\n",
       "      <td>0.000000</td>\n",
       "      <td>0.000000</td>\n",
       "      <td>0.000000</td>\n",
       "      <td>0.000000</td>\n",
       "      <td>0.000000</td>\n",
       "      <td>0.00000</td>\n",
       "      <td>-1131.370972</td>\n",
       "      <td>0.000000</td>\n",
       "      <td>0.000000</td>\n",
       "      <td>...</td>\n",
       "      <td>0.000000</td>\n",
       "      <td>0.000000</td>\n",
       "      <td>0.000000</td>\n",
       "      <td>0.000000</td>\n",
       "      <td>0.000000</td>\n",
       "      <td>0.000000</td>\n",
       "      <td>0.000000</td>\n",
       "      <td>0.000000</td>\n",
       "      <td>0.000000</td>\n",
       "      <td>0.000000</td>\n",
       "    </tr>\n",
       "    <tr>\n",
       "      <th>1</th>\n",
       "      <td>music</td>\n",
       "      <td>0.000000</td>\n",
       "      <td>0.000000</td>\n",
       "      <td>0.000000</td>\n",
       "      <td>0.000000</td>\n",
       "      <td>0.000000</td>\n",
       "      <td>0.00000</td>\n",
       "      <td>-1131.370972</td>\n",
       "      <td>0.000000</td>\n",
       "      <td>0.000000</td>\n",
       "      <td>...</td>\n",
       "      <td>0.000000</td>\n",
       "      <td>0.000000</td>\n",
       "      <td>0.000000</td>\n",
       "      <td>0.000000</td>\n",
       "      <td>0.000000</td>\n",
       "      <td>0.000000</td>\n",
       "      <td>0.000000</td>\n",
       "      <td>0.000000</td>\n",
       "      <td>0.000000</td>\n",
       "      <td>0.000000</td>\n",
       "    </tr>\n",
       "    <tr>\n",
       "      <th>2</th>\n",
       "      <td>music</td>\n",
       "      <td>0.000000</td>\n",
       "      <td>0.000000</td>\n",
       "      <td>0.000000</td>\n",
       "      <td>0.000000</td>\n",
       "      <td>0.000000</td>\n",
       "      <td>0.00000</td>\n",
       "      <td>-1131.370972</td>\n",
       "      <td>0.000000</td>\n",
       "      <td>0.000000</td>\n",
       "      <td>...</td>\n",
       "      <td>0.000000</td>\n",
       "      <td>0.000000</td>\n",
       "      <td>0.000000</td>\n",
       "      <td>0.000000</td>\n",
       "      <td>0.000000</td>\n",
       "      <td>0.000000</td>\n",
       "      <td>0.000000</td>\n",
       "      <td>0.000000</td>\n",
       "      <td>0.000000</td>\n",
       "      <td>0.000000</td>\n",
       "    </tr>\n",
       "    <tr>\n",
       "      <th>3</th>\n",
       "      <td>music</td>\n",
       "      <td>0.012444</td>\n",
       "      <td>0.081449</td>\n",
       "      <td>432.529692</td>\n",
       "      <td>424.989395</td>\n",
       "      <td>949.418501</td>\n",
       "      <td>0.01466</td>\n",
       "      <td>-632.946411</td>\n",
       "      <td>12.773681</td>\n",
       "      <td>-1.715082</td>\n",
       "      <td>...</td>\n",
       "      <td>-2.038454</td>\n",
       "      <td>-0.884550</td>\n",
       "      <td>-1.802255</td>\n",
       "      <td>0.243648</td>\n",
       "      <td>-0.727257</td>\n",
       "      <td>0.287844</td>\n",
       "      <td>0.141726</td>\n",
       "      <td>-0.364878</td>\n",
       "      <td>-0.763656</td>\n",
       "      <td>-0.566740</td>\n",
       "    </tr>\n",
       "    <tr>\n",
       "      <th>4</th>\n",
       "      <td>music</td>\n",
       "      <td>0.172535</td>\n",
       "      <td>0.435161</td>\n",
       "      <td>2309.434221</td>\n",
       "      <td>2392.904163</td>\n",
       "      <td>4963.403320</td>\n",
       "      <td>0.10235</td>\n",
       "      <td>-33.924923</td>\n",
       "      <td>96.108818</td>\n",
       "      <td>-15.746825</td>\n",
       "      <td>...</td>\n",
       "      <td>-10.182379</td>\n",
       "      <td>-11.484722</td>\n",
       "      <td>-13.531470</td>\n",
       "      <td>-5.707917</td>\n",
       "      <td>-9.890487</td>\n",
       "      <td>-1.513985</td>\n",
       "      <td>-8.121307</td>\n",
       "      <td>-4.673933</td>\n",
       "      <td>-4.060278</td>\n",
       "      <td>-2.206214</td>\n",
       "    </tr>\n",
       "  </tbody>\n",
       "</table>\n",
       "<p>5 rows × 27 columns</p>\n",
       "</div>"
      ],
      "text/plain": [
       "   label  chroma_stft      rmse    spec_cent      spec_bw      rolloff  \\\n",
       "0  music     0.000000  0.000000     0.000000     0.000000     0.000000   \n",
       "1  music     0.000000  0.000000     0.000000     0.000000     0.000000   \n",
       "2  music     0.000000  0.000000     0.000000     0.000000     0.000000   \n",
       "3  music     0.012444  0.081449   432.529692   424.989395   949.418501   \n",
       "4  music     0.172535  0.435161  2309.434221  2392.904163  4963.403320   \n",
       "\n",
       "       zcr       mfcc_0     mfcc_1     mfcc_2  ...    mfcc_10    mfcc_11  \\\n",
       "0  0.00000 -1131.370972   0.000000   0.000000  ...   0.000000   0.000000   \n",
       "1  0.00000 -1131.370972   0.000000   0.000000  ...   0.000000   0.000000   \n",
       "2  0.00000 -1131.370972   0.000000   0.000000  ...   0.000000   0.000000   \n",
       "3  0.01466  -632.946411  12.773681  -1.715082  ...  -2.038454  -0.884550   \n",
       "4  0.10235   -33.924923  96.108818 -15.746825  ... -10.182379 -11.484722   \n",
       "\n",
       "     mfcc_12   mfcc_13   mfcc_14   mfcc_15   mfcc_16   mfcc_17   mfcc_18  \\\n",
       "0   0.000000  0.000000  0.000000  0.000000  0.000000  0.000000  0.000000   \n",
       "1   0.000000  0.000000  0.000000  0.000000  0.000000  0.000000  0.000000   \n",
       "2   0.000000  0.000000  0.000000  0.000000  0.000000  0.000000  0.000000   \n",
       "3  -1.802255  0.243648 -0.727257  0.287844  0.141726 -0.364878 -0.763656   \n",
       "4 -13.531470 -5.707917 -9.890487 -1.513985 -8.121307 -4.673933 -4.060278   \n",
       "\n",
       "    mfcc_19  \n",
       "0  0.000000  \n",
       "1  0.000000  \n",
       "2  0.000000  \n",
       "3 -0.566740  \n",
       "4 -2.206214  \n",
       "\n",
       "[5 rows x 27 columns]"
      ]
     },
     "execution_count": 89,
     "metadata": {},
     "output_type": "execute_result"
    }
   ],
   "source": [
    "data.head(5)"
   ]
  },
  {
   "cell_type": "code",
   "execution_count": 90,
   "metadata": {},
   "outputs": [],
   "source": [
    "X = data.drop('label', axis=1)\n",
    "y = data['label']\n",
    "\n",
    "X_ = X.copy()\n",
    "y_ = y.copy()\n",
    "\n",
    "scaler = StandardScaler()\n",
    "scaler.fit(X_)\n",
    "X_ = scaler.transform(X_)\n",
    "y_ = np.array(y_)\n",
    "\n",
    "np.reshape(X_, X_.shape, order='C')\n",
    "np.reshape(y_, y_.shape, order='C')\n",
    "\n",
    "X_ = X_.astype('float32') # This X_ will be used to train classifiers a.k.a developments set, it is standarndized!!!\n",
    "\n",
    "X_train, X_test, Y_train, Y_test = train_test_split(X_, y_, test_size = 0.3, random_state=42, shuffle=False)"
   ]
  },
  {
   "cell_type": "code",
   "execution_count": 96,
   "metadata": {},
   "outputs": [],
   "source": [
    "class FaissKMeans:\n",
    "    def __init__(self, n_clusters=8, n_redo=10, max_iter=300):\n",
    "        self.n_clusters = n_clusters\n",
    "        # redo means repeating with new starting points\n",
    "        self.n_redo = n_redo\n",
    "        self.max_iter = max_iter\n",
    "        \n",
    "        self.kmeans = None\n",
    "        self.cluster_centers_ = None\n",
    "        self.inertia_ = None\n",
    "\n",
    "    def fit(self, X):\n",
    "        self.kmeans = faiss.Kmeans(d=X.shape[1],\n",
    "                                   k=self.n_clusters,\n",
    "                                   niter=self.max_iter,\n",
    "                                   nredo=self.n_redo)\n",
    "        self.kmeans.train(X.astype(np.float32))\n",
    "        self.cluster_centers_ = self.kmeans.centroids\n",
    "        self.inertia_ = self.kmeans.obj[-1]\n",
    "\n",
    "    def predict(self, X):\n",
    "        preds = self.kmeans.index.search(X.astype(np.float32), 1)[1]\n",
    "        preds = preds.reshape((X.shape[0], ))\n",
    "        return np.array(pd.Series(preds).map({1: 'music', 0: 'speech'}))"
   ]
  },
  {
   "cell_type": "code",
   "execution_count": 97,
   "metadata": {},
   "outputs": [],
   "source": [
    "class SklearnKMeans:\n",
    "    def __init__(self, n_clusters=8, n_redo=10, max_iter=300, initialization='random'):\n",
    "        self.n_clusters = n_clusters\n",
    "        # redo means repeating with new starting points\n",
    "        self.n_redo = n_redo\n",
    "        self.max_iter = max_iter\n",
    "        self.initialization = initialization\n",
    "        \n",
    "        self.kmeans = None\n",
    "        self.cluster_centers_ = None\n",
    "\n",
    "    def fit(self, X):\n",
    "        self.kmeans = KMeans(n_clusters=self.n_clusters, \n",
    "                             random_state=0, \n",
    "                             init=self.initialization, \n",
    "                             n_init=self.n_redo, max_iter=self.max_iter)\n",
    "        \n",
    "        self.kmeans.fit(X)\n",
    "        self.cluster_centers_ = self.kmeans.cluster_centers_\n",
    "\n",
    "    def predict(self, X):\n",
    "        preds = self.kmeans.predict(X)\n",
    "        preds = preds.reshape((X.shape[0], ))\n",
    "        return np.array(pd.Series(preds).map({0: 'music', 1: 'speech'}))"
   ]
  },
  {
   "cell_type": "code",
   "execution_count": 100,
   "metadata": {},
   "outputs": [],
   "source": [
    "K  = 2\n",
    "\n",
    "kmeansFaiss = FaissKMeans(n_clusters=K, max_iter=300, n_redo=50)\n",
    "kmeansFaiss.fit(X_train)\n",
    "y_pred_faiss_train = kmeansFaiss.predict(X_train)\n",
    "y_pred_faiss_test = kmeansFaiss.predict(X_test)\n",
    "\n",
    "\n",
    "# initialization_methods = ['random', 'k-means++']\n",
    "# for init_method in initialization_methods:\n",
    "#     pass\n",
    "kmeansSklearn = SklearnKMeans(n_clusters=K, initialization='random', n_redo=50)\n",
    "kmeansSklearn.fit(X_train)\n",
    "y_pred_sklearn_train = kmeansSklearn.predict(X_train)\n",
    "y_pred_sklearn_test = kmeansSklearn.predict(X_test)"
   ]
  },
  {
   "cell_type": "code",
   "execution_count": 101,
   "metadata": {},
   "outputs": [
    {
     "data": {
      "text/plain": [
       "{'sklearn': 0.1960699736400671, 'faiss': 0.18389647735442127}"
      ]
     },
     "execution_count": 101,
     "metadata": {},
     "output_type": "execute_result"
    }
   ],
   "source": [
    "trainAccuracies = {\n",
    "    'sklearn': accuracy_score(y_true=Y_train, y_pred=y_pred_sklearn_train),\n",
    "    'faiss': accuracy_score(y_true=Y_train, y_pred=y_pred_faiss_train)\n",
    "}\n",
    "trainAccuracies"
   ]
  },
  {
   "cell_type": "code",
   "execution_count": 102,
   "metadata": {},
   "outputs": [
    {
     "data": {
      "text/plain": [
       "{'sklearn': 0.20004472772000448, 'faiss': 0.19892653471989266}"
      ]
     },
     "execution_count": 102,
     "metadata": {},
     "output_type": "execute_result"
    }
   ],
   "source": [
    "testAccuracies = {\n",
    "    'sklearn': accuracy_score(y_true=Y_test, y_pred=y_pred_sklearn_test),\n",
    "    'faiss': accuracy_score(y_true=Y_test, y_pred=y_pred_faiss_test)\n",
    "}\n",
    "testAccuracies"
   ]
  },
  {
   "cell_type": "code",
   "execution_count": 104,
   "metadata": {},
   "outputs": [
    {
     "data": {
      "application/vnd.jupyter.widget-view+json": {
       "model_id": "dda8cd2b9f5647529b09155e06e83ebf",
       "version_major": 2,
       "version_minor": 0
      },
      "text/plain": [
       "HBox(children=(FloatProgress(value=0.0, max=25.0), HTML(value='')))"
      ]
     },
     "metadata": {},
     "output_type": "display_data"
    },
    {
     "name": "stdout",
     "output_type": "stream",
     "text": [
      "\n"
     ]
    }
   ],
   "source": [
    "faiss_train_accuracies = []\n",
    "sklearn_train_accuracies = []\n",
    "\n",
    "faiss_test_accuracies = []\n",
    "sklearn_test_accuracies = []\n",
    "\n",
    "faiss_train_accuracies_dict = {}\n",
    "sklearn_train_accuracies_dict = {}\n",
    "\n",
    "faiss_test_accuracies_dict = {}\n",
    "sklearn_test_accuracies_dict = {}\n",
    "\n",
    "K = 2\n",
    "n_features = data.shape[1]  # We have 26 features.\n",
    "principal_components = np.arange(2, n_features, 1)\n",
    "\n",
    "for principal_component in tqdm(principal_components):\n",
    "    pca = PCA(n_components=principal_component)\n",
    "    # use fit_transform to run PCA on our standardized matrix\n",
    "    X_pcaed = pca.fit_transform(X_)\n",
    "    trainX, testX, trainY, testY = train_test_split(\n",
    "        X_pcaed, y_, test_size = 0.3, shuffle=False)\n",
    "    \n",
    "    kmeansFaiss = FaissKMeans(n_clusters=K, max_iter=300, n_redo=50)\n",
    "    kmeansFaiss.fit(trainX)\n",
    "    y_pred_faiss_train = kmeansFaiss.predict(trainX)\n",
    "    y_pred_faiss_test = kmeansFaiss.predict(testX)\n",
    "    \n",
    "    curr_train_acc_faiss = accuracy_score(y_true=trainY, y_pred=y_pred_faiss_train)\n",
    "    if curr_train_acc_faiss < 0.35:\n",
    "        curr_train_acc_faiss = 1 - curr_train_acc_faiss\n",
    "    \n",
    "    curr_test_acc_faiss = accuracy_score(y_true=testY, y_pred=y_pred_faiss_test)\n",
    "    if curr_test_acc_faiss < 0.35:\n",
    "        curr_test_acc_faiss = 1 - curr_test_acc_faiss\n",
    "    \n",
    "    faiss_train_accuracies.append(curr_train_acc_faiss)\n",
    "    faiss_test_accuracies.append(curr_test_acc_faiss)\n",
    "    \n",
    "    faiss_train_accuracies_dict[str(principal_component)] = curr_train_acc_faiss\n",
    "    faiss_test_accuracies_dict[str(principal_component)] = curr_test_acc_faiss\n",
    "    \n",
    "    \n",
    "    kmeansSklearn = SklearnKMeans(n_clusters=K, initialization='random', n_redo=50)\n",
    "    kmeansSklearn.fit(trainX)\n",
    "    y_pred_sklearn_train = kmeansSklearn.predict(trainX)\n",
    "    y_pred_sklearn_test = kmeansSklearn.predict(testX)\n",
    "    \n",
    "    curr_train_acc = accuracy_score(y_true=trainY, y_pred=y_pred_sklearn_train)\n",
    "    if curr_train_acc < 0.35:\n",
    "        curr_train_acc = 1 - curr_train_acc\n",
    "    \n",
    "    curr_test_acc = accuracy_score(y_true=testY, y_pred=y_pred_sklearn_test)\n",
    "    if curr_test_acc < 0.35:\n",
    "        curr_test_acc = 1 - curr_test_acc\n",
    "    \n",
    "    sklearn_train_accuracies.append(curr_train_acc)\n",
    "    sklearn_test_accuracies.append(curr_test_acc)\n",
    "    \n",
    "    sklearn_train_accuracies_dict[str(principal_component)] = curr_train_acc\n",
    "    sklearn_test_accuracies_dict[str(principal_component)] = curr_test_acc"
   ]
  },
  {
   "cell_type": "code",
   "execution_count": 105,
   "metadata": {},
   "outputs": [
    {
     "name": "stdout",
     "output_type": "stream",
     "text": [
      "Faiss train accuracies:\n",
      "{'2': 0.7960220464893362, '3': 0.8080517613227893, '4': 0.819027078840163, '5': 0.8221902707884017, '6': 0.8218068535825546, '7': 0.8221423436376707, '8': 0.8227174694464414, '9': 0.822429906542056, '10': 0.8227653965971723, '11': 0.8227174694464414, '12': 0.8212317277737838, '13': 0.8205128205128205, '14': 0.8238197939132519, '15': 0.8203690390606279, '16': 0.8114545890246825, '17': 0.8130841121495327, '18': 0.8120297148334531, '19': 0.8117900790797987, '20': 0.8162473040977714, '21': 0.8161035226455787, '22': 0.8158638868919242, '23': 0.8159597411933861, '24': 0.8159118140426551, '25': 0.8161035226455787, '26': 0.8161035226455787}\n"
     ]
    }
   ],
   "source": [
    "print('Faiss train accuracies:')\n",
    "print(faiss_train_accuracies_dict)"
   ]
  },
  {
   "cell_type": "code",
   "execution_count": 106,
   "metadata": {},
   "outputs": [
    {
     "name": "stdout",
     "output_type": "stream",
     "text": [
      "Faiss test accuracies:\n",
      "{'2': 0.7884378843788438, '3': 0.7988370792798837, '4': 0.8031980319803198, '5': 0.8001789108800179, '6': 0.800849826680085, '7': 0.8010734652801074, '8': 0.8012971038801298, '9': 0.8009616459800961, '10': 0.8017443810801744, '11': 0.8018562003801857, '12': 0.800849826680085, '13': 0.8007380073800738, '14': 0.8019680196801968, '15': 0.8011852845801185, '16': 0.7999552722799955, '17': 0.8004025494800402, '18': 0.7995079950799509, '19': 0.8000670915800067, '20': 0.8009616459800961, '21': 0.8010734652801074, '22': 0.8009616459800961, '23': 0.8009616459800961, '24': 0.8010734652801074, '25': 0.8010734652801074, '26': 0.8010734652801074}\n"
     ]
    }
   ],
   "source": [
    "print('Faiss test accuracies:')\n",
    "print(faiss_test_accuracies_dict)"
   ]
  },
  {
   "cell_type": "code",
   "execution_count": 107,
   "metadata": {},
   "outputs": [
    {
     "name": "stdout",
     "output_type": "stream",
     "text": [
      "Sklearn train accuracies:\n",
      "{'2': 0.7843757488617301, '3': 0.7945363048166787, '4': 0.7972681524083394, '5': 0.8007189072609633, '6': 0.8005271986580398, '7': 0.8002875629043853, '8': 0.800862688713156, '9': 0.8010543973160795, '10': 0.8015336688233885, '11': 0.8016295231248503, '12': 0.8018691588785046, '13': 0.8018691588785046, '14': 0.8015815959741194, '15': 0.8015336688233885, '16': 0.8014857416726575, '17': 0.802588066139468, '18': 0.8028277018931225, '19': 0.8035466091540858, '20': 0.8037862449077402, '21': 0.8041217349628564, '22': 0.8039779535106638, '23': 0.8045530793194344, '24': 0.8045530793194344, '25': 0.8039300263599329, '26': 0.8039300263599329}\n"
     ]
    }
   ],
   "source": [
    "print('Sklearn train accuracies:')\n",
    "print(sklearn_train_accuracies_dict)"
   ]
  },
  {
   "cell_type": "code",
   "execution_count": 108,
   "metadata": {},
   "outputs": [
    {
     "name": "stdout",
     "output_type": "stream",
     "text": [
      "Sklearn test accuracies:\n",
      "{'2': 0.7907860896790786, '3': 0.8010734652801074, '4': 0.8016325617801633, '5': 0.7993961757799396, '6': 0.7997316336799731, '7': 0.7997316336799731, '8': 0.7990607178799061, '9': 0.7991725371799172, '10': 0.7990607178799061, '11': 0.7990607178799061, '12': 0.7992843564799285, '13': 0.7991725371799172, '14': 0.7993961757799396, '15': 0.7991725371799172, '16': 0.7989488985798949, '17': 0.7998434529799844, '18': 0.7997316336799731, '19': 0.7998434529799844, '20': 0.7998434529799844, '21': 0.800290730180029, '22': 0.800290730180029, '23': 0.800290730180029, '24': 0.800290730180029, '25': 0.7999552722799955, '26': 0.7999552722799955}\n"
     ]
    }
   ],
   "source": [
    "print('Sklearn test accuracies:')\n",
    "print(sklearn_test_accuracies_dict)"
   ]
  },
  {
   "cell_type": "code",
   "execution_count": 109,
   "metadata": {},
   "outputs": [
    {
     "data": {
      "image/png": "[encoded data removed]",
      "text/plain": [
       "<Figure size 432x288 with 1 Axes>"
      ]
     },
     "metadata": {
      "needs_background": "light"
     },
     "output_type": "display_data"
    },
    {
     "data": {
      "image/png": "[encoded data removed]",
      "text/plain": [
       "<Figure size 432x288 with 1 Axes>"
      ]
     },
     "metadata": {
      "needs_background": "light"
     },
     "output_type": "display_data"
    }
   ],
   "source": [
    "plt.plot(principal_components, faiss_train_accuracies, 'o')\n",
    "plt.plot(principal_components, sklearn_train_accuracies, 'o')\n",
    "plt.legend(['Faiss', 'Sklearn'])\n",
    "plt.title('Predictors Accuracy on train part of DEVSET vs #PCA components')\n",
    "plt.show()\n",
    "\n",
    "plt.plot(principal_components, faiss_test_accuracies, 'o')\n",
    "plt.plot(principal_components, sklearn_test_accuracies, 'o')\n",
    "plt.legend(['Faiss', 'Sklearn'])\n",
    "plt.title('Predictors Accuracy on test part of DEVSET vs #PCA components')\n",
    "plt.show()"
   ]
  },
  {
   "cell_type": "code",
   "execution_count": 110,
   "metadata": {},
   "outputs": [],
   "source": [
    "num_components = 4\n",
    "K = 2\n",
    "pca = PCA(n_components=num_components)\n",
    "# use fit_transform to run PCA on our standardized matrix\n",
    "X_pcaed = pca.fit_transform(X_) \n",
    "#     print(X_pcaed.shape)\n",
    "trainX, testX, trainY, testY = train_test_split(\n",
    "    X_pcaed, y_, test_size = 0.3, shuffle=False)\n",
    "\n",
    "kmeansFaiss = FaissKMeans(n_clusters=K, max_iter=300, n_redo=50)\n",
    "kmeansFaiss.fit(trainX)\n",
    "y_pred_faiss_train = kmeansFaiss.predict(trainX)\n",
    "y_pred_faiss_test = kmeansFaiss.predict(testX)\n",
    "\n",
    "kmeansSklearn = SklearnKMeans(n_clusters=K, initialization='random', n_redo=50)\n",
    "kmeansSklearn.fit(trainX)\n",
    "y_pred_sklearn_train = kmeansSklearn.predict(trainX)\n",
    "y_pred_sklearn_test = kmeansSklearn.predict(testX)"
   ]
  },
  {
   "cell_type": "code",
   "execution_count": 111,
   "metadata": {},
   "outputs": [],
   "source": [
    "class smoothHMM:\n",
    "\n",
    "    def __init__(self, predictor, state_names, pca_n=4):\n",
    "\n",
    "        self.predictor = predictor\n",
    "        self.modelHMM = HiddenMarkovModel()\n",
    "        self.le=LabelEncoder()\n",
    "        self.state_names = state_names\n",
    "        self.pca = PCA(n_components=pca_n)\n",
    "        self.scaler = StandardScaler()\n",
    "\n",
    "    def fit(self, X, y):\n",
    "        \n",
    "        X_ = X.copy()\n",
    "        y_ = y.copy()\n",
    "\n",
    "        self.scaler.fit(X_)\n",
    "        X_ = self.scaler.transform(X_)\n",
    "        y_ = np.array(y_)\n",
    "              \n",
    "        # use fit_transform to run PCA on our standardized matrix\n",
    "        X_ = self.pca.fit_transform(X_)\n",
    "        \n",
    "        np.reshape(X_, X_.shape, order='C')\n",
    "        np.reshape(y_, y_.shape, order='C')\n",
    "        \n",
    "        X_ = X_.astype('float32')\n",
    "        X_simplified = self.le.fit_transform(self.predictor.predict(X_)).reshape(1, -1)\n",
    "        y_simplified = y_.reshape(1, -1)\n",
    "    \n",
    "        self.modelHMM = self.modelHMM.from_samples(\n",
    "            DiscreteDistribution, len(self.state_names), X_simplified, labels = y_simplified,\n",
    "            algorithm='labeled', state_names=self.state_names , verbose = True)\n",
    "        self.modelHMM.bake()\n",
    "           \n",
    "\n",
    "    def predict(self, X):\n",
    "        \n",
    "        X_ = X.copy()\n",
    "        \n",
    "        self.scaler.fit(X_)\n",
    "        X_ = self.scaler.transform(X_)\n",
    "              \n",
    "        # use fit_transform to run PCA on our standardized matrix\n",
    "        X_ = self.pca.fit_transform(X_)\n",
    "        \n",
    "        np.reshape(X_, X_.shape, order='C')\n",
    "        \n",
    "        X_ = X_.astype('float32')\n",
    "            \n",
    "        X_simplified = self.le.transform(self.predictor.predict(X_)).tolist()\n",
    "        return self.modelHMM.predict(X_simplified)\n",
    "    \n",
    "    def score(self, X, y):\n",
    "        \n",
    "        target = self.predict(X)    \n",
    "        y = self.le.transform(y.to_numpy())\n",
    "        \n",
    "        return np.sum(target==y)/y.shape[0]"
   ]
  },
  {
   "cell_type": "markdown",
   "metadata": {},
   "source": [
    "## Test data load"
   ]
  },
  {
   "cell_type": "code",
   "execution_count": null,
   "metadata": {},
   "outputs": [],
   "source": [
    "dataHTrain = pd.concat([pd.read_csv(REPO_DIR + \"/data/data_{}.csv\".format(i), index_col=False) for i in [1,2]])\n",
    "dataHTrain.drop('Unnamed: 0', axis=1, inplace=True)\n",
    "dataHTrain.drop('timestamp', axis=1, inplace=True)\n",
    "dataHTest = pd.concat([pd.read_csv(REPO_DIR + \"/data/data_{}.csv\".format(i), index_col=False) for i in [3]])\n",
    "dataHTest.drop('Unnamed: 0', axis=1, inplace=True)\n",
    "dataHTest.drop('timestamp', axis=1, inplace=True)"
   ]
  },
  {
   "cell_type": "markdown",
   "metadata": {},
   "source": [
    "## Performance tests on test sets"
   ]
  },
  {
   "cell_type": "code",
   "execution_count": 112,
   "metadata": {},
   "outputs": [
    {
     "name": "stdout",
     "output_type": "stream",
     "text": [
      "[1] Improvement: 5469.0404691116655\tTime (s): 0.01627\n",
      "[2] Improvement: 0.0\tTime (s): 0.01606\n",
      "Total Training Improvement: 5469.0404691116655\n",
      "Total Training Time (s): 0.0496\n",
      "Faiss library classifier score: 0.8803328768566312\n"
     ]
    }
   ],
   "source": [
    "hmm_faiss = smoothHMM(kmeansFaiss, state_names=['music', 'speech'], pca_n=4)\n",
    "hmm_faiss.fit(trainHX, trainHY)\n",
    "print('Faiss library classifier score:', hmm_faiss.score(testHX, testHY))"
   ]
  },
  {
   "cell_type": "code",
   "execution_count": 114,
   "metadata": {},
   "outputs": [
    {
     "data": {
      "text/plain": [
       "[{\n",
       "     \"class\" : \"State\",\n",
       "     \"distribution\" : {\n",
       "         \"class\" : \"Distribution\",\n",
       "         \"dtype\" : \"numpy.int64\",\n",
       "         \"name\" : \"DiscreteDistribution\",\n",
       "         \"parameters\" : [\n",
       "             {\n",
       "                 \"0\" : 0.9885433715220949,\n",
       "                 \"1\" : 0.011456628477905073\n",
       "             }\n",
       "         ],\n",
       "         \"frozen\" : false\n",
       "     },\n",
       "     \"name\" : \"music\",\n",
       "     \"weight\" : 1.0\n",
       " },\n",
       " {\n",
       "     \"class\" : \"State\",\n",
       "     \"distribution\" : {\n",
       "         \"class\" : \"Distribution\",\n",
       "         \"dtype\" : \"numpy.int64\",\n",
       "         \"name\" : \"DiscreteDistribution\",\n",
       "         \"parameters\" : [\n",
       "             {\n",
       "                 \"0\" : 0.01550180408926901,\n",
       "                 \"1\" : 0.984498195910731\n",
       "             }\n",
       "         ],\n",
       "         \"frozen\" : false\n",
       "     },\n",
       "     \"name\" : \"speech\",\n",
       "     \"weight\" : 1.0\n",
       " },\n",
       " {\n",
       "     \"class\" : \"State\",\n",
       "     \"distribution\" : null,\n",
       "     \"name\" : \"None-start\",\n",
       "     \"weight\" : 1.0\n",
       " },\n",
       " {\n",
       "     \"class\" : \"State\",\n",
       "     \"distribution\" : null,\n",
       "     \"name\" : \"None-end\",\n",
       "     \"weight\" : 1.0\n",
       " }]"
      ]
     },
     "execution_count": 114,
     "metadata": {},
     "output_type": "execute_result"
    }
   ],
   "source": [
    "hmm.modelHMM.states"
   ]
  },
  {
   "cell_type": "code",
   "execution_count": 113,
   "metadata": {},
   "outputs": [
    {
     "name": "stdout",
     "output_type": "stream",
     "text": [
      "[1] Improvement: 5317.848837862015\tTime (s): 0.01576\n",
      "[2] Improvement: 0.0\tTime (s): 0.01623\n",
      "Total Training Improvement: 5317.848837862015\n",
      "Total Training Time (s): 0.0485\n",
      "Sklearn library classifier score: 0.8705361845570421\n"
     ]
    }
   ],
   "source": [
    "hmm_sklearn = smoothHMM(kmeansSklearn, state_names=['music', 'speech'], pca_n=4)\n",
    "hmm_sklearn.fit(trainHX, trainHY)\n",
    "print('Sklearn library classifier score:', hmm_sklearn.score(testHX, testHY))"
   ]
  },
  {
   "cell_type": "code",
   "execution_count": 115,
   "metadata": {},
   "outputs": [
    {
     "data": {
      "text/plain": [
       "[{\n",
       "     \"class\" : \"State\",\n",
       "     \"distribution\" : {\n",
       "         \"class\" : \"Distribution\",\n",
       "         \"dtype\" : \"numpy.int64\",\n",
       "         \"name\" : \"DiscreteDistribution\",\n",
       "         \"parameters\" : [\n",
       "             {\n",
       "                 \"0\" : 0.9885433715220949,\n",
       "                 \"1\" : 0.011456628477905073\n",
       "             }\n",
       "         ],\n",
       "         \"frozen\" : false\n",
       "     },\n",
       "     \"name\" : \"music\",\n",
       "     \"weight\" : 1.0\n",
       " },\n",
       " {\n",
       "     \"class\" : \"State\",\n",
       "     \"distribution\" : {\n",
       "         \"class\" : \"Distribution\",\n",
       "         \"dtype\" : \"numpy.int64\",\n",
       "         \"name\" : \"DiscreteDistribution\",\n",
       "         \"parameters\" : [\n",
       "             {\n",
       "                 \"0\" : 0.01550180408926901,\n",
       "                 \"1\" : 0.984498195910731\n",
       "             }\n",
       "         ],\n",
       "         \"frozen\" : false\n",
       "     },\n",
       "     \"name\" : \"speech\",\n",
       "     \"weight\" : 1.0\n",
       " },\n",
       " {\n",
       "     \"class\" : \"State\",\n",
       "     \"distribution\" : null,\n",
       "     \"name\" : \"None-start\",\n",
       "     \"weight\" : 1.0\n",
       " },\n",
       " {\n",
       "     \"class\" : \"State\",\n",
       "     \"distribution\" : null,\n",
       "     \"name\" : \"None-end\",\n",
       "     \"weight\" : 1.0\n",
       " }]"
      ]
     },
     "execution_count": 115,
     "metadata": {},
     "output_type": "execute_result"
    }
   ],
   "source": [
    "hmm.modelHMM.states"
   ]
  },
  {
   "cell_type": "code",
   "execution_count": null,
   "metadata": {},
   "outputs": [],
   "source": []
  }
 ],
 "metadata": {
  "kernelspec": {
   "display_name": "Python 3",
   "language": "python",
   "name": "python3"
  },
  "language_info": {
   "codemirror_mode": {
    "name": "ipython",
    "version": 3
   },
   "file_extension": ".py",
   "mimetype": "text/x-python",
   "name": "python",
   "nbconvert_exporter": "python",
   "pygments_lexer": "ipython3",
   "version": "3.7.6"
  }
 },
 "nbformat": 4,
 "nbformat_minor": 4
}
