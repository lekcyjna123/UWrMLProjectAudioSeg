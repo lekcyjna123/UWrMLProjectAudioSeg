{
 "cells": [
  {
   "cell_type": "markdown",
   "metadata": {},
   "source": [
    "# Basic imports"
   ]
  },
  {
   "cell_type": "code",
   "execution_count": 1,
   "metadata": {},
   "outputs": [],
   "source": [
    "import os\n",
    "#import pydub\n",
    "#import sox\n",
    "import pandas as pd\n",
    "import numpy as np\n",
    "import datetime\n",
    "import librosa\n",
    "import matplotlib.pyplot as plt\n",
    "from tqdm.auto import tqdm"
   ]
  },
  {
   "cell_type": "code",
   "execution_count": 6,
   "metadata": {},
   "outputs": [],
   "source": [
    "REPO_DIR = \"..\"\n",
    "AUDIO_TYPE = \".wav\"\n",
    "SECOND = 1000"
   ]
  },
  {
   "cell_type": "code",
   "execution_count": 148,
   "metadata": {},
   "outputs": [],
   "source": [
    "os.chdir(REPO_DIR)\n",
    "os.listdir(REPO_DIR + \"/data\")\n",
    "for i in [1, 2, 3]:\n",
    "    os.makedirs(REPO_DIR + \"/data/audio{}\".format(i), exist_ok=True)"
   ]
  },
  {
   "cell_type": "markdown",
   "metadata": {},
   "source": [
    "# audio1 processing"
   ]
  },
  {
   "cell_type": "code",
   "execution_count": 149,
   "metadata": {},
   "outputs": [],
   "source": [
    "audio = pydub.AudioSegment.from_wav(REPO_DIR + \"data/audio1.wav\")"
   ]
  },
  {
   "cell_type": "code",
   "execution_count": 150,
   "metadata": {},
   "outputs": [],
   "source": [
    "new_audio = [audio[i * SECOND : (i + 1) * SECOND] for i in range(len(audio)//SECOND)]"
   ]
  },
  {
   "cell_type": "code",
   "execution_count": 151,
   "metadata": {},
   "outputs": [],
   "source": [
    "for fragment in enumerate(new_audio):\n",
    "    fragment[1].export(\"data/audio1/audio1_{}.wav\".format(fragment[0] + 1), format=\"wav\")"
   ]
  },
  {
   "cell_type": "code",
   "execution_count": 143,
   "metadata": {},
   "outputs": [],
   "source": [
    "labels_df = pd.read_csv('data/labels1.txt')[['timestamp', 'label']]\n",
    "labels_df['timestamp'] = labels_df['timestamp'].apply(lambda x: datetime.datetime.strptime(x, \"%H:%M:%S\"))\n",
    "labels_df = labels_df.set_index('timestamp')\n",
    "labels_df = labels_df.resample('1S').pad()\n",
    "labels_df['seconds'] = labels_df.index\n",
    "labels_df['seconds'] = labels_df['seconds'].apply(lambda x: int((x - datetime.datetime(1900, 1, 1)).total_seconds()))\n",
    "labels_df.to_csv(REPO_DIR + '/data/labels1_long.csv', index=False)"
   ]
  },
  {
   "cell_type": "code",
   "execution_count": 179,
   "metadata": {},
   "outputs": [
    {
     "data": {
      "application/vnd.jupyter.widget-view+json": {
       "model_id": "bb990e8e8f35461fa5c9bafaf4023aa2",
       "version_major": 2,
       "version_minor": 0
      },
      "text/plain": [
       "HBox(children=(HTML(value=''), FloatProgress(value=0.0, max=12800.0), HTML(value='')))"
      ]
     },
     "metadata": {},
     "output_type": "display_data"
    },
    {
     "name": "stderr",
     "output_type": "stream",
     "text": [
      "C:\\Users\\wojti\\anaconda3\\lib\\site-packages\\librosa\\core\\pitch.py:153: UserWarning: Trying to estimate tuning from empty frequency set.\n",
      "  warnings.warn(\"Trying to estimate tuning from empty frequency set.\")\n",
      "C:\\Users\\wojti\\anaconda3\\lib\\site-packages\\librosa\\core\\pitch.py:153: UserWarning: Trying to estimate tuning from empty frequency set.\n",
      "  warnings.warn(\"Trying to estimate tuning from empty frequency set.\")\n",
      "C:\\Users\\wojti\\anaconda3\\lib\\site-packages\\librosa\\core\\pitch.py:153: UserWarning: Trying to estimate tuning from empty frequency set.\n",
      "  warnings.warn(\"Trying to estimate tuning from empty frequency set.\")\n",
      "C:\\Users\\wojti\\anaconda3\\lib\\site-packages\\librosa\\core\\pitch.py:153: UserWarning: Trying to estimate tuning from empty frequency set.\n",
      "  warnings.warn(\"Trying to estimate tuning from empty frequency set.\")\n",
      "C:\\Users\\wojti\\anaconda3\\lib\\site-packages\\librosa\\core\\pitch.py:153: UserWarning: Trying to estimate tuning from empty frequency set.\n",
      "  warnings.warn(\"Trying to estimate tuning from empty frequency set.\")\n",
      "C:\\Users\\wojti\\anaconda3\\lib\\site-packages\\librosa\\core\\pitch.py:153: UserWarning: Trying to estimate tuning from empty frequency set.\n",
      "  warnings.warn(\"Trying to estimate tuning from empty frequency set.\")\n",
      "C:\\Users\\wojti\\anaconda3\\lib\\site-packages\\librosa\\core\\pitch.py:153: UserWarning: Trying to estimate tuning from empty frequency set.\n",
      "  warnings.warn(\"Trying to estimate tuning from empty frequency set.\")\n"
     ]
    },
    {
     "name": "stdout",
     "output_type": "stream",
     "text": [
      "\n"
     ]
    }
   ],
   "source": [
    "rows = []\n",
    "for second in tqdm(labels_df['seconds']):\n",
    "    y, sr = librosa.load(REPO_DIR + \"data/audio1/audio1_{}.wav\".format(second))\n",
    "    label = labels_df[labels_df['seconds'] == second]['label'][0]\n",
    "    chroma_stft = np.mean(librosa.feature.chroma_stft(y=y, sr=sr))\n",
    "    rmse = np.mean(librosa.feature.rms(y=y))\n",
    "    spec_cent = np.mean(librosa.feature.spectral_centroid(y=y, sr=sr))\n",
    "    spec_bw = np.mean(librosa.feature.spectral_bandwidth(y=y, sr=sr))\n",
    "    rolloff = np.mean(librosa.feature.spectral_rolloff(y=y, sr=sr))\n",
    "    zcr = np.mean(librosa.feature.zero_crossing_rate(y))\n",
    "    mfcc = librosa.feature.mfcc(y=y, sr=sr)\n",
    "    mfccs = []\n",
    "    for e in mfcc:\n",
    "        mfccs.append(np.mean(e))\n",
    "    obs = [second, label, rmse, chroma_stft, spec_cent, spec_bw, rolloff, zcr]\n",
    "    obs.extend(mfccs)\n",
    "    rows.append(obs)"
   ]
  },
  {
   "cell_type": "code",
   "execution_count": 181,
   "metadata": {},
   "outputs": [],
   "source": [
    "columns = ['timestamp', 'label', 'chroma_stft', 'rmse', 'spec_cent', 'spec_bw', 'rolloff', 'zcr']\n",
    "columns.extend(['mfcc_{}'.format(i) for i in range(len(mfcc))])\n",
    "data = pd.DataFrame(rows, columns = columns)\n",
    "data.head()\n",
    "data.to_csv(REPO_DIR + \"/data/data_1.csv\")"
   ]
  },
  {
   "cell_type": "markdown",
   "metadata": {},
   "source": [
    "# audio2 processing"
   ]
  },
  {
   "cell_type": "code",
   "execution_count": 182,
   "metadata": {},
   "outputs": [],
   "source": [
    "audio = pydub.AudioSegment.from_wav(REPO_DIR + \"data/audio2.wav\")"
   ]
  },
  {
   "cell_type": "code",
   "execution_count": 183,
   "metadata": {},
   "outputs": [],
   "source": [
    "new_audio = [audio[i * SECOND : (i + 1) * SECOND] for i in range(len(audio)//SECOND)]"
   ]
  },
  {
   "cell_type": "code",
   "execution_count": 188,
   "metadata": {},
   "outputs": [],
   "source": [
    "for fragment in enumerate(new_audio):\n",
    "    fragment[1].export(\"data/audio2/audio2_{}.wav\".format(fragment[0] + 1), format=\"wav\")"
   ]
  },
  {
   "cell_type": "code",
   "execution_count": 189,
   "metadata": {},
   "outputs": [],
   "source": [
    "labels_df = pd.read_csv('data/labels2.txt')[['timestamp', 'label']]\n",
    "labels_df['timestamp'] = labels_df['timestamp'].apply(lambda x: datetime.datetime.strptime(x, \"%H:%M:%S\"))\n",
    "labels_df = labels_df.set_index('timestamp')\n",
    "labels_df = labels_df.resample('1S').pad()\n",
    "labels_df['seconds'] = labels_df.index\n",
    "labels_df['seconds'] = labels_df['seconds'].apply(lambda x: int((x - datetime.datetime(1900, 1, 1)).total_seconds()))\n",
    "labels_df.to_csv(REPO_DIR + '/data/labels2_long.csv', index=False)"
   ]
  },
  {
   "cell_type": "code",
   "execution_count": 190,
   "metadata": {},
   "outputs": [
    {
     "data": {
      "application/vnd.jupyter.widget-view+json": {
       "model_id": "a67c08c3f0be47d7a1c13f26b03e4d79",
       "version_major": 2,
       "version_minor": 0
      },
      "text/plain": [
       "HBox(children=(HTML(value=''), FloatProgress(value=0.0, max=9493.0), HTML(value='')))"
      ]
     },
     "metadata": {},
     "output_type": "display_data"
    },
    {
     "name": "stderr",
     "output_type": "stream",
     "text": [
      "C:\\Users\\wojti\\anaconda3\\lib\\site-packages\\librosa\\core\\pitch.py:153: UserWarning: Trying to estimate tuning from empty frequency set.\n",
      "  warnings.warn(\"Trying to estimate tuning from empty frequency set.\")\n"
     ]
    },
    {
     "name": "stdout",
     "output_type": "stream",
     "text": [
      "\n"
     ]
    }
   ],
   "source": [
    "rows = []\n",
    "for second in tqdm(labels_df['seconds']):\n",
    "    y, sr = librosa.load(REPO_DIR + \"data/audio2/audio2_{}.wav\".format(second))\n",
    "    label = labels_df[labels_df['seconds'] == second]['label'][0]\n",
    "    chroma_stft = np.mean(librosa.feature.chroma_stft(y=y, sr=sr))\n",
    "    rmse = np.mean(librosa.feature.rms(y=y))\n",
    "    spec_cent = np.mean(librosa.feature.spectral_centroid(y=y, sr=sr))\n",
    "    spec_bw = np.mean(librosa.feature.spectral_bandwidth(y=y, sr=sr))\n",
    "    rolloff = np.mean(librosa.feature.spectral_rolloff(y=y, sr=sr))\n",
    "    zcr = np.mean(librosa.feature.zero_crossing_rate(y))\n",
    "    mfcc = librosa.feature.mfcc(y=y, sr=sr)\n",
    "    mfccs = []\n",
    "    for e in mfcc:\n",
    "        mfccs.append(np.mean(e))\n",
    "    obs = [second, label, rmse, chroma_stft, spec_cent, spec_bw, rolloff, zcr]\n",
    "    obs.extend(mfccs)\n",
    "    rows.append(obs)"
   ]
  },
  {
   "cell_type": "code",
   "execution_count": 191,
   "metadata": {},
   "outputs": [],
   "source": [
    "columns = ['timestamp', 'label', 'chroma_stft', 'rmse', 'spec_cent', 'spec_bw', 'rolloff', 'zcr']\n",
    "columns.extend(['mfcc_{}'.format(i) for i in range(len(mfcc))])\n",
    "data = pd.DataFrame(rows, columns = columns)\n",
    "data.head()\n",
    "data.to_csv(REPO_DIR + \"/data/data_2.csv\")"
   ]
  },
  {
   "cell_type": "markdown",
   "metadata": {},
   "source": [
    "# audio3 processing"
   ]
  },
  {
   "cell_type": "code",
   "execution_count": 192,
   "metadata": {},
   "outputs": [],
   "source": [
    "audio = pydub.AudioSegment.from_wav(REPO_DIR + \"data/audio3.wav\")"
   ]
  },
  {
   "cell_type": "code",
   "execution_count": 193,
   "metadata": {},
   "outputs": [],
   "source": [
    "new_audio = [audio[i * SECOND : (i + 1) * SECOND] for i in range(len(audio)//SECOND)]"
   ]
  },
  {
   "cell_type": "code",
   "execution_count": 194,
   "metadata": {},
   "outputs": [],
   "source": [
    "for fragment in enumerate(new_audio):\n",
    "    fragment[1].export(\"data/audio3/audio3_{}.wav\".format(fragment[0] + 1), format=\"wav\")"
   ]
  },
  {
   "cell_type": "code",
   "execution_count": 195,
   "metadata": {},
   "outputs": [],
   "source": [
    "labels_df = pd.read_csv('data/labels3.txt')[['timestamp', 'label']]\n",
    "labels_df['timestamp'] = labels_df['timestamp'].apply(lambda x: datetime.datetime.strptime(x, \"%H:%M:%S\"))\n",
    "labels_df = labels_df.set_index('timestamp')\n",
    "labels_df = labels_df.resample('1S').pad()\n",
    "labels_df['seconds'] = labels_df.index\n",
    "labels_df['seconds'] = labels_df['seconds'].apply(lambda x: int((x - datetime.datetime(1900, 1, 1)).total_seconds()))\n",
    "labels_df.to_csv(REPO_DIR + '/data/labels3_long.csv', index=False)"
   ]
  },
  {
   "cell_type": "code",
   "execution_count": 196,
   "metadata": {},
   "outputs": [
    {
     "data": {
      "application/vnd.jupyter.widget-view+json": {
       "model_id": "33925d90639548d89fc06241556c95ce",
       "version_major": 2,
       "version_minor": 0
      },
      "text/plain": [
       "HBox(children=(HTML(value=''), FloatProgress(value=0.0, max=7515.0), HTML(value='')))"
      ]
     },
     "metadata": {},
     "output_type": "display_data"
    },
    {
     "name": "stderr",
     "output_type": "stream",
     "text": [
      "C:\\Users\\wojti\\anaconda3\\lib\\site-packages\\librosa\\core\\pitch.py:153: UserWarning: Trying to estimate tuning from empty frequency set.\n",
      "  warnings.warn(\"Trying to estimate tuning from empty frequency set.\")\n"
     ]
    },
    {
     "name": "stdout",
     "output_type": "stream",
     "text": [
      "\n"
     ]
    }
   ],
   "source": [
    "rows = []\n",
    "for second in tqdm(labels_df['seconds']):\n",
    "    y, sr = librosa.load(REPO_DIR + \"data/audio3/audio3_{}.wav\".format(second))\n",
    "    label = labels_df[labels_df['seconds'] == second]['label'][0]\n",
    "    chroma_stft = np.mean(librosa.feature.chroma_stft(y=y, sr=sr))\n",
    "    rmse = np.mean(librosa.feature.rms(y=y))\n",
    "    spec_cent = np.mean(librosa.feature.spectral_centroid(y=y, sr=sr))\n",
    "    spec_bw = np.mean(librosa.feature.spectral_bandwidth(y=y, sr=sr))\n",
    "    rolloff = np.mean(librosa.feature.spectral_rolloff(y=y, sr=sr))\n",
    "    zcr = np.mean(librosa.feature.zero_crossing_rate(y))\n",
    "    mfcc = librosa.feature.mfcc(y=y, sr=sr)\n",
    "    mfccs = []\n",
    "    for e in mfcc:\n",
    "        mfccs.append(np.mean(e))\n",
    "    obs = [second, label, rmse, chroma_stft, spec_cent, spec_bw, rolloff, zcr]\n",
    "    obs.extend(mfccs)\n",
    "    rows.append(obs)"
   ]
  },
  {
   "cell_type": "code",
   "execution_count": 197,
   "metadata": {},
   "outputs": [],
   "source": [
    "columns = ['timestamp', 'label', 'chroma_stft', 'rmse', 'spec_cent', 'spec_bw', 'rolloff', 'zcr']\n",
    "columns.extend(['mfcc_{}'.format(i) for i in range(len(mfcc))])\n",
    "data = pd.DataFrame(rows, columns = columns)\n",
    "data.head()\n",
    "data.to_csv(REPO_DIR + \"/data/data_3.csv\")"
   ]
  },
  {
   "cell_type": "markdown",
   "metadata": {},
   "source": [
    "# Learning models"
   ]
  },
  {
   "cell_type": "code",
   "execution_count": 7,
   "metadata": {},
   "outputs": [],
   "source": [
    "data = pd.concat([pd.read_csv(REPO_DIR + \"/data/data_{}.csv\".format(i), index_col=False) for i in [1,2,3]])\n",
    "data.drop('Unnamed: 0', axis=1, inplace=True)\n",
    "data.drop('timestamp', axis=1, inplace=True)"
   ]
  },
  {
   "cell_type": "code",
   "execution_count": 8,
   "metadata": {},
   "outputs": [
    {
     "data": {
      "text/html": [
       "<div>\n",
       "<style scoped>\n",
       "    .dataframe tbody tr th:only-of-type {\n",
       "        vertical-align: middle;\n",
       "    }\n",
       "\n",
       "    .dataframe tbody tr th {\n",
       "        vertical-align: top;\n",
       "    }\n",
       "\n",
       "    .dataframe thead th {\n",
       "        text-align: right;\n",
       "    }\n",
       "</style>\n",
       "<table border=\"1\" class=\"dataframe\">\n",
       "  <thead>\n",
       "    <tr style=\"text-align: right;\">\n",
       "      <th></th>\n",
       "      <th>label</th>\n",
       "      <th>chroma_stft</th>\n",
       "      <th>rmse</th>\n",
       "      <th>spec_cent</th>\n",
       "      <th>spec_bw</th>\n",
       "      <th>rolloff</th>\n",
       "      <th>zcr</th>\n",
       "      <th>mfcc_0</th>\n",
       "      <th>mfcc_1</th>\n",
       "      <th>mfcc_2</th>\n",
       "      <th>...</th>\n",
       "      <th>mfcc_10</th>\n",
       "      <th>mfcc_11</th>\n",
       "      <th>mfcc_12</th>\n",
       "      <th>mfcc_13</th>\n",
       "      <th>mfcc_14</th>\n",
       "      <th>mfcc_15</th>\n",
       "      <th>mfcc_16</th>\n",
       "      <th>mfcc_17</th>\n",
       "      <th>mfcc_18</th>\n",
       "      <th>mfcc_19</th>\n",
       "    </tr>\n",
       "  </thead>\n",
       "  <tbody>\n",
       "    <tr>\n",
       "      <th>0</th>\n",
       "      <td>music</td>\n",
       "      <td>0.000000</td>\n",
       "      <td>0.000000</td>\n",
       "      <td>0.000000</td>\n",
       "      <td>0.000000</td>\n",
       "      <td>0.000000</td>\n",
       "      <td>0.00000</td>\n",
       "      <td>-1131.370972</td>\n",
       "      <td>0.000000</td>\n",
       "      <td>0.000000</td>\n",
       "      <td>...</td>\n",
       "      <td>0.000000</td>\n",
       "      <td>0.000000</td>\n",
       "      <td>0.000000</td>\n",
       "      <td>0.000000</td>\n",
       "      <td>0.000000</td>\n",
       "      <td>0.000000</td>\n",
       "      <td>0.000000</td>\n",
       "      <td>0.000000</td>\n",
       "      <td>0.000000</td>\n",
       "      <td>0.000000</td>\n",
       "    </tr>\n",
       "    <tr>\n",
       "      <th>1</th>\n",
       "      <td>music</td>\n",
       "      <td>0.000000</td>\n",
       "      <td>0.000000</td>\n",
       "      <td>0.000000</td>\n",
       "      <td>0.000000</td>\n",
       "      <td>0.000000</td>\n",
       "      <td>0.00000</td>\n",
       "      <td>-1131.370972</td>\n",
       "      <td>0.000000</td>\n",
       "      <td>0.000000</td>\n",
       "      <td>...</td>\n",
       "      <td>0.000000</td>\n",
       "      <td>0.000000</td>\n",
       "      <td>0.000000</td>\n",
       "      <td>0.000000</td>\n",
       "      <td>0.000000</td>\n",
       "      <td>0.000000</td>\n",
       "      <td>0.000000</td>\n",
       "      <td>0.000000</td>\n",
       "      <td>0.000000</td>\n",
       "      <td>0.000000</td>\n",
       "    </tr>\n",
       "    <tr>\n",
       "      <th>2</th>\n",
       "      <td>music</td>\n",
       "      <td>0.000000</td>\n",
       "      <td>0.000000</td>\n",
       "      <td>0.000000</td>\n",
       "      <td>0.000000</td>\n",
       "      <td>0.000000</td>\n",
       "      <td>0.00000</td>\n",
       "      <td>-1131.370972</td>\n",
       "      <td>0.000000</td>\n",
       "      <td>0.000000</td>\n",
       "      <td>...</td>\n",
       "      <td>0.000000</td>\n",
       "      <td>0.000000</td>\n",
       "      <td>0.000000</td>\n",
       "      <td>0.000000</td>\n",
       "      <td>0.000000</td>\n",
       "      <td>0.000000</td>\n",
       "      <td>0.000000</td>\n",
       "      <td>0.000000</td>\n",
       "      <td>0.000000</td>\n",
       "      <td>0.000000</td>\n",
       "    </tr>\n",
       "    <tr>\n",
       "      <th>3</th>\n",
       "      <td>music</td>\n",
       "      <td>0.012444</td>\n",
       "      <td>0.081449</td>\n",
       "      <td>432.529692</td>\n",
       "      <td>424.989395</td>\n",
       "      <td>949.418501</td>\n",
       "      <td>0.01466</td>\n",
       "      <td>-632.946411</td>\n",
       "      <td>12.773681</td>\n",
       "      <td>-1.715082</td>\n",
       "      <td>...</td>\n",
       "      <td>-2.038454</td>\n",
       "      <td>-0.884550</td>\n",
       "      <td>-1.802255</td>\n",
       "      <td>0.243648</td>\n",
       "      <td>-0.727257</td>\n",
       "      <td>0.287844</td>\n",
       "      <td>0.141726</td>\n",
       "      <td>-0.364878</td>\n",
       "      <td>-0.763656</td>\n",
       "      <td>-0.566740</td>\n",
       "    </tr>\n",
       "    <tr>\n",
       "      <th>4</th>\n",
       "      <td>music</td>\n",
       "      <td>0.172535</td>\n",
       "      <td>0.435161</td>\n",
       "      <td>2309.434221</td>\n",
       "      <td>2392.904163</td>\n",
       "      <td>4963.403320</td>\n",
       "      <td>0.10235</td>\n",
       "      <td>-33.924923</td>\n",
       "      <td>96.108818</td>\n",
       "      <td>-15.746825</td>\n",
       "      <td>...</td>\n",
       "      <td>-10.182379</td>\n",
       "      <td>-11.484722</td>\n",
       "      <td>-13.531470</td>\n",
       "      <td>-5.707917</td>\n",
       "      <td>-9.890487</td>\n",
       "      <td>-1.513985</td>\n",
       "      <td>-8.121307</td>\n",
       "      <td>-4.673933</td>\n",
       "      <td>-4.060278</td>\n",
       "      <td>-2.206214</td>\n",
       "    </tr>\n",
       "  </tbody>\n",
       "</table>\n",
       "<p>5 rows × 27 columns</p>\n",
       "</div>"
      ],
      "text/plain": [
       "   label  chroma_stft      rmse    spec_cent      spec_bw      rolloff  \\\n",
       "0  music     0.000000  0.000000     0.000000     0.000000     0.000000   \n",
       "1  music     0.000000  0.000000     0.000000     0.000000     0.000000   \n",
       "2  music     0.000000  0.000000     0.000000     0.000000     0.000000   \n",
       "3  music     0.012444  0.081449   432.529692   424.989395   949.418501   \n",
       "4  music     0.172535  0.435161  2309.434221  2392.904163  4963.403320   \n",
       "\n",
       "       zcr       mfcc_0     mfcc_1     mfcc_2  ...    mfcc_10    mfcc_11  \\\n",
       "0  0.00000 -1131.370972   0.000000   0.000000  ...   0.000000   0.000000   \n",
       "1  0.00000 -1131.370972   0.000000   0.000000  ...   0.000000   0.000000   \n",
       "2  0.00000 -1131.370972   0.000000   0.000000  ...   0.000000   0.000000   \n",
       "3  0.01466  -632.946411  12.773681  -1.715082  ...  -2.038454  -0.884550   \n",
       "4  0.10235   -33.924923  96.108818 -15.746825  ... -10.182379 -11.484722   \n",
       "\n",
       "     mfcc_12   mfcc_13   mfcc_14   mfcc_15   mfcc_16   mfcc_17   mfcc_18  \\\n",
       "0   0.000000  0.000000  0.000000  0.000000  0.000000  0.000000  0.000000   \n",
       "1   0.000000  0.000000  0.000000  0.000000  0.000000  0.000000  0.000000   \n",
       "2   0.000000  0.000000  0.000000  0.000000  0.000000  0.000000  0.000000   \n",
       "3  -1.802255  0.243648 -0.727257  0.287844  0.141726 -0.364878 -0.763656   \n",
       "4 -13.531470 -5.707917 -9.890487 -1.513985 -8.121307 -4.673933 -4.060278   \n",
       "\n",
       "    mfcc_19  \n",
       "0  0.000000  \n",
       "1  0.000000  \n",
       "2  0.000000  \n",
       "3 -0.566740  \n",
       "4 -2.206214  \n",
       "\n",
       "[5 rows x 27 columns]"
      ]
     },
     "execution_count": 8,
     "metadata": {},
     "output_type": "execute_result"
    }
   ],
   "source": [
    "data.head()"
   ]
  },
  {
   "cell_type": "code",
   "execution_count": 9,
   "metadata": {},
   "outputs": [],
   "source": [
    "from sklearn.neighbors import KNeighborsClassifier\n",
    "from sklearn.model_selection import train_test_split, cross_val_score, cross_validate\n",
    "from sklearn.metrics import accuracy_score, f1_score, balanced_accuracy_score\n",
    "from sklearn.ensemble import AdaBoostClassifier, RandomForestClassifier\n",
    "from sklearn.tree import DecisionTreeClassifier\n",
    "from sklearn.linear_model import Lasso\n",
    "from sklearn import svm\n",
    "from sklearn import tree"
   ]
  },
  {
   "cell_type": "code",
   "execution_count": 27,
   "metadata": {},
   "outputs": [],
   "source": [
    "X = data.drop('label', axis=1)\n",
    "y = data['label']\n",
    "trainX, testX, trainY, testY = train_test_split(X, y, test_size = 0.3, random_state=42, stratify=y)"
   ]
  },
  {
   "cell_type": "code",
   "execution_count": 11,
   "metadata": {},
   "outputs": [
    {
     "data": {
      "application/vnd.jupyter.widget-view+json": {
       "model_id": "5f21c51be46c419e961fd968aa74f907",
       "version_major": 2,
       "version_minor": 0
      },
      "text/plain": [
       "  0%|          | 0/10 [00:00<?, ?it/s]"
      ]
     },
     "metadata": {},
     "output_type": "display_data"
    }
   ],
   "source": [
    "depths = np.arange(5,51,5)\n",
    "trainAccuracies = []\n",
    "trainBalancedAccuracies = []\n",
    "trainMacroF1s = []\n",
    "testAccuracies = []\n",
    "testBalancedAccuracies = []\n",
    "testMacroF1s = []\n",
    "for depth in tqdm(depths) : \n",
    "    rfClf = RandomForestClassifier(max_depth=depth, random_state=0)\n",
    "    rfClf.fit(trainX, trainY)\n",
    "    trainPreds = rfClf.predict(trainX)\n",
    "    testPreds = rfClf.predict(testX)\n",
    "    trainAccuracies.append(accuracy_score(y_true=trainY, y_pred=trainPreds))\n",
    "    trainBalancedAccuracies.append(balanced_accuracy_score(y_true=trainY, y_pred=trainPreds))\n",
    "    trainMacroF1s.append(f1_score(y_true=trainY, y_pred=trainPreds, average='macro'))\n",
    "    testAccuracies.append(accuracy_score(y_true=testY, y_pred=testPreds))\n",
    "    testBalancedAccuracies.append(balanced_accuracy_score(y_true=testY, y_pred=testPreds))\n",
    "    testMacroF1s.append(f1_score(y_true=testY, y_pred=testPreds, average='macro'))"
   ]
  },
  {
   "cell_type": "code",
   "execution_count": 12,
   "metadata": {},
   "outputs": [
    {
     "data": {
      "image/png": "[encoded data removed]",
      "text/plain": [
       "<Figure size 432x288 with 1 Axes>"
      ]
     },
     "metadata": {
      "needs_background": "light"
     },
     "output_type": "display_data"
    },
    {
     "data": {
      "image/png": "[encoded data removed]",
      "text/plain": [
       "<Figure size 432x288 with 1 Axes>"
      ]
     },
     "metadata": {
      "needs_background": "light"
     },
     "output_type": "display_data"
    }
   ],
   "source": [
    "plt.plot(depths, trainAccuracies, 'o')\n",
    "plt.plot(depths, trainBalancedAccuracies, 'o')\n",
    "plt.plot(depths, trainMacroF1s, 'o')\n",
    "plt.legend(['acc','bal_acc','macro_f1'])\n",
    "plt.show()\n",
    "plt.plot(depths, testAccuracies, 'o')\n",
    "plt.plot(depths, testBalancedAccuracies, 'o')\n",
    "plt.plot(depths, testMacroF1s, 'o')\n",
    "plt.legend(['acc','bal_acc','macro_f1'])\n",
    "plt.show()"
   ]
  },
  {
   "cell_type": "code",
   "execution_count": 13,
   "metadata": {},
   "outputs": [
    {
     "data": {
      "text/plain": [
       "[0.9393939393939394,\n",
       " 0.9625405344962541,\n",
       " 0.9672369450967236,\n",
       " 0.9682433187968243,\n",
       " 0.9696969696969697,\n",
       " 0.9690260538969026,\n",
       " 0.9692496924969249,\n",
       " 0.9691378731969138,\n",
       " 0.9691378731969138,\n",
       " 0.9691378731969138]"
      ]
     },
     "execution_count": 13,
     "metadata": {},
     "output_type": "execute_result"
    }
   ],
   "source": [
    "testAccuracies"
   ]
  },
  {
   "cell_type": "markdown",
   "metadata": {},
   "source": [
    "# Training HMM"
   ]
  },
  {
   "cell_type": "code",
   "execution_count": 14,
   "metadata": {},
   "outputs": [],
   "source": [
    "from sklearn.preprocessing import LabelEncoder\n",
    "from pomegranate import HiddenMarkovModel\n",
    "from pomegranate.distributions import DiscreteDistribution\n",
    "import pomegranate as pg"
   ]
  },
  {
   "cell_type": "code",
   "execution_count": 28,
   "metadata": {},
   "outputs": [],
   "source": [
    "dataHTrain = pd.concat([pd.read_csv(REPO_DIR + \"/data/data_{}.csv\".format(i), index_col=False) for i in [1,2]])\n",
    "dataHTrain.drop('Unnamed: 0', axis=1, inplace=True)\n",
    "dataHTrain.drop('timestamp', axis=1, inplace=True)\n",
    "dataHTest = pd.concat([pd.read_csv(REPO_DIR + \"/data/data_{}.csv\".format(i), index_col=False) for i in [3]])\n",
    "dataHTest.drop('Unnamed: 0', axis=1, inplace=True)\n",
    "dataHTest.drop('timestamp', axis=1, inplace=True)"
   ]
  },
  {
   "cell_type": "code",
   "execution_count": 29,
   "metadata": {},
   "outputs": [],
   "source": [
    "trainHX = dataHTrain.drop('label', axis=1)\n",
    "trainHY = dataHTrain['label']\n",
    "\n",
    "testHX = dataHTest.drop('label', axis=1)\n",
    "testHY = dataHTest['label']"
   ]
  },
  {
   "cell_type": "code",
   "execution_count": 15,
   "metadata": {},
   "outputs": [],
   "source": [
    "class smoothHMM:\n",
    "\n",
    "    def __init__(self, model):\n",
    "\n",
    "        self.predictor = model\n",
    "        self.modelHMM = HiddenMarkovModel()\n",
    "        self.le=LabelEncoder()\n",
    "\n",
    "    def fit(self, X, y):\n",
    "        \n",
    "        X_simplified = self.le.fit_transform(self.predictor.predict(X)).reshape(1, -1)\n",
    "        \n",
    "        y = y.to_numpy().reshape(1, -1)\n",
    "\n",
    "        self.modelHMM = self.modelHMM.from_samples(DiscreteDistribution, 2, X_simplified, labels = y,\n",
    "                                   algorithm='labeled', state_names=['music', 'speech'], verbose = True)\n",
    "        self.modelHMM.bake()\n",
    "           \n",
    "\n",
    "    def predict(self, X):\n",
    "\n",
    "        X_simplified = self.le.transform(self.predictor.predict(X)).tolist()\n",
    "        \n",
    "        return self.modelHMM.predict(X_simplified)\n",
    "    \n",
    "    def score(self, X, y):\n",
    "        \n",
    "        target = self.predict(X)\n",
    "        \n",
    "        y = self.le.transform(y.to_numpy())\n",
    "        \n",
    "        return np.sum(target==y)/y.shape[0]"
   ]
  },
  {
   "cell_type": "code",
   "execution_count": 32,
   "metadata": {},
   "outputs": [
    {
     "name": "stdout",
     "output_type": "stream",
     "text": [
      "[1] Improvement: 13534.917600122557\tTime (s): 0.03145\n",
      "[2] Improvement: 0.0\tTime (s): 0.03249\n",
      "Total Training Improvement: 13534.917600122557\n",
      "Total Training Time (s): 0.0949\n"
     ]
    }
   ],
   "source": [
    "#trainX, testX, trainY, testY \n",
    "hmm = smoothHMM(rfClf)\n",
    "hmm.fit(trainHX, trainHY)"
   ]
  },
  {
   "cell_type": "code",
   "execution_count": 34,
   "metadata": {},
   "outputs": [
    {
     "data": {
      "text/plain": [
       "0.9976047904191617"
      ]
     },
     "execution_count": 34,
     "metadata": {},
     "output_type": "execute_result"
    }
   ],
   "source": [
    "hmm.score(testHX, testHY)"
   ]
  },
  {
   "cell_type": "code",
   "execution_count": 35,
   "metadata": {},
   "outputs": [
    {
     "data": {
      "text/plain": [
       "array([[0.99551536, 0.00448464, 0.        , 0.        ],\n",
       "       [0.00673174, 0.99326826, 0.        , 0.        ],\n",
       "       [0.5       , 0.5       , 0.        , 0.        ],\n",
       "       [0.        , 0.        , 0.        , 0.        ]])"
      ]
     },
     "execution_count": 35,
     "metadata": {},
     "output_type": "execute_result"
    }
   ],
   "source": [
    "hmm.modelHMM.dense_transition_matrix()"
   ]
  },
  {
   "cell_type": "code",
   "execution_count": 36,
   "metadata": {},
   "outputs": [
    {
     "data": {
      "text/plain": [
       "[{\n",
       "     \"class\" : \"State\",\n",
       "     \"distribution\" : {\n",
       "         \"class\" : \"Distribution\",\n",
       "         \"dtype\" : \"numpy.int64\",\n",
       "         \"name\" : \"DiscreteDistribution\",\n",
       "         \"parameters\" : [\n",
       "             {\n",
       "                 \"0\" : 0.9891621197398909,\n",
       "                 \"1\" : 0.010837880260109126\n",
       "             }\n",
       "         ],\n",
       "         \"frozen\" : false\n",
       "     },\n",
       "     \"name\" : \"music\",\n",
       "     \"weight\" : 1.0\n",
       " },\n",
       " {\n",
       "     \"class\" : \"State\",\n",
       "     \"distribution\" : {\n",
       "         \"class\" : \"Distribution\",\n",
       "         \"dtype\" : \"numpy.int64\",\n",
       "         \"name\" : \"DiscreteDistribution\",\n",
       "         \"parameters\" : [\n",
       "             {\n",
       "                 \"0\" : 0.02445865589588242,\n",
       "                 \"1\" : 0.9755413441041176\n",
       "             }\n",
       "         ],\n",
       "         \"frozen\" : false\n",
       "     },\n",
       "     \"name\" : \"speech\",\n",
       "     \"weight\" : 1.0\n",
       " },\n",
       " {\n",
       "     \"class\" : \"State\",\n",
       "     \"distribution\" : null,\n",
       "     \"name\" : \"None-start\",\n",
       "     \"weight\" : 1.0\n",
       " },\n",
       " {\n",
       "     \"class\" : \"State\",\n",
       "     \"distribution\" : null,\n",
       "     \"name\" : \"None-end\",\n",
       "     \"weight\" : 1.0\n",
       " }]"
      ]
     },
     "execution_count": 36,
     "metadata": {},
     "output_type": "execute_result"
    }
   ],
   "source": [
    "hmm.modelHMM.states"
   ]
  },
  {
   "cell_type": "code",
   "execution_count": null,
   "metadata": {},
   "outputs": [],
   "source": []
  }
 ],
 "metadata": {
  "kernelspec": {
   "display_name": "Python 3",
   "language": "python",
   "name": "python3"
  },
  "language_info": {
   "codemirror_mode": {
    "name": "ipython",
    "version": 3
   },
   "file_extension": ".py",
   "mimetype": "text/x-python",
   "name": "python",
   "nbconvert_exporter": "python",
   "pygments_lexer": "ipython3",
   "version": "3.9.1"
  }
 },
 "nbformat": 4,
 "nbformat_minor": 4
}
